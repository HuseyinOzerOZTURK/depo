{
 "cells": [
  {
   "cell_type": "markdown",
   "metadata": {},
   "source": [
    "1)3 tane sayı iste. ekrana yazıdr= 3x5x6=90  gibi\n",
    "2)kullanıcı adısoyadı, sınıfı; okul no alt alta yazın\n",
    "3) kullanıcıdan 100 km aracı ortalama kaç litre \n",
    "benzin/mazot tüketiyor sorun.\n",
    "benzin/mazot= 9.5 tl\n",
    "1 km de kaç tl yakıyor?"
   ]
  },
  {
   "cell_type": "code",
   "execution_count": 1,
   "metadata": {},
   "outputs": [
    {
     "name": "stdout",
     "output_type": "stream",
     "text": [
      "1. sayı:4\n",
      "2. sayı:2.5\n",
      "3. sayı:8\n",
      "4.0x2.5x8.0=80.0\n"
     ]
    }
   ],
   "source": [
    "s1=float(input(\"1. sayı:\"))\n",
    "s2=float(input(\"2. sayı:\"))\n",
    "s3=float(input(\"3. sayı:\"))\n",
    "print(\"{}x{}x{}={}\".format(s1,s2,s3,s1*s2*s3))"
   ]
  },
  {
   "cell_type": "code",
   "execution_count": 2,
   "metadata": {},
   "outputs": [
    {
     "name": "stdout",
     "output_type": "stream",
     "text": [
      "bir şeyler yaz5\n",
      "<class 'str'>\n"
     ]
    }
   ],
   "source": [
    "x=input(\"bir şeyler yaz\")#input ile alınan tüm değerler stringdir.\n",
    "print(type(x))#burada tipini sorduk bize string olduğunu söyledi."
   ]
  },
  {
   "cell_type": "code",
   "execution_count": 6,
   "metadata": {},
   "outputs": [
    {
     "name": "stdout",
     "output_type": "stream",
     "text": [
      "adınız/soyadınız:ali veli\n",
      "sınıfın:9c\n",
      "okul numaran:34\n",
      "ali veli\n",
      "9c\n",
      "34\n"
     ]
    }
   ],
   "source": [
    "isim=input(\"adınız/soyadınız:\")\n",
    "sınıf=input(\"sınıfın:\")\n",
    "okulno=input(\"okul numaran:\")\n",
    "print(\"{}\\n{}\\n{}\".format(isim,sınıf,okulno))"
   ]
  },
  {
   "cell_type": "code",
   "execution_count": 9,
   "metadata": {},
   "outputs": [
    {
     "name": "stdout",
     "output_type": "stream",
     "text": [
      "sayı 1:3\n",
      "sayı 2:4.5\n",
      "13.5\n"
     ]
    }
   ],
   "source": [
    "s1=input(\"sayı 1:\")\n",
    "s2=input(\"sayı 2:\")\n",
    "a=float(s1)\n",
    "b=float(s2)\n",
    "print(a*b)"
   ]
  },
  {
   "cell_type": "code",
   "execution_count": 10,
   "metadata": {},
   "outputs": [
    {
     "name": "stdout",
     "output_type": "stream",
     "text": [
      "ortalama kaç litre=5.3\n",
      "benzin mazıot ne kadar9.5\n",
      "araban 0.5035 lira tüketimi var\n"
     ]
    }
   ],
   "source": [
    "ort=float(input(\"ortalama kaç litre=\"))\n",
    "benmaz=float(input(\"benzin mazıot ne kadar\"))\n",
    "formul=(ort/100)*benmaz\n",
    "print(\"araban {} lira tüketimi var\".format(formul))"
   ]
  },
  {
   "cell_type": "markdown",
   "metadata": {},
   "source": [
    "# Mantıksal değerler ve karşılaştırma operatörleri"
   ]
  },
  {
   "cell_type": "markdown",
   "metadata": {},
   "source": [
    "Mantıksal Değerler(Boolen)"
   ]
  },
  {
   "cell_type": "markdown",
   "metadata": {},
   "source": [
    "Boolen değerler pythonda bir veri tipidir. True ve False iki değere sahiptir."
   ]
  },
  {
   "cell_type": "code",
   "execution_count": 11,
   "metadata": {},
   "outputs": [
    {
     "name": "stdout",
     "output_type": "stream",
     "text": [
      "<class 'bool'>\n"
     ]
    }
   ],
   "source": [
    "a = True\n",
    "print(type(a))"
   ]
  },
  {
   "cell_type": "code",
   "execution_count": 12,
   "metadata": {},
   "outputs": [
    {
     "data": {
      "text/plain": [
       "True"
      ]
     },
     "execution_count": 12,
     "metadata": {},
     "output_type": "execute_result"
    }
   ],
   "source": [
    "bool(4)#pythonda bir sayı değeri 0 dan farklı ise True değilse False \n",
    "#anlam kazanır"
   ]
  },
  {
   "cell_type": "code",
   "execution_count": 13,
   "metadata": {},
   "outputs": [
    {
     "data": {
      "text/plain": [
       "False"
      ]
     },
     "execution_count": 13,
     "metadata": {},
     "output_type": "execute_result"
    }
   ],
   "source": [
    "bool(0)"
   ]
  },
  {
   "cell_type": "code",
   "execution_count": 14,
   "metadata": {},
   "outputs": [
    {
     "data": {
      "text/plain": [
       "False"
      ]
     },
     "execution_count": 14,
     "metadata": {},
     "output_type": "execute_result"
    }
   ],
   "source": [
    "1>2 # yanlış olduğu için sonuç false"
   ]
  },
  {
   "cell_type": "code",
   "execution_count": 15,
   "metadata": {},
   "outputs": [
    {
     "data": {
      "text/plain": [
       "True"
      ]
     },
     "execution_count": 15,
     "metadata": {},
     "output_type": "execute_result"
    }
   ],
   "source": [
    "5<6 #doğru olduğu için sonuç True"
   ]
  },
  {
   "cell_type": "code",
   "execution_count": 1,
   "metadata": {},
   "outputs": [
    {
     "name": "stdout",
     "output_type": "stream",
     "text": [
      "None\n"
     ]
    }
   ],
   "source": [
    "a = None #geçiçi a değişkenine değer atanmamış.\n",
    "print(a)"
   ]
  },
  {
   "cell_type": "markdown",
   "metadata": {},
   "source": [
    "Karşılaştırma Operatörleri "
   ]
  },
  {
   "cell_type": "markdown",
   "metadata": {},
   "source": [
    "== iki değer birbirine eşitse True, değilse False"
   ]
  },
  {
   "cell_type": "code",
   "execution_count": 18,
   "metadata": {},
   "outputs": [
    {
     "data": {
      "text/plain": [
       "True"
      ]
     },
     "execution_count": 18,
     "metadata": {},
     "output_type": "execute_result"
    }
   ],
   "source": [
    "2==2"
   ]
  },
  {
   "cell_type": "code",
   "execution_count": 19,
   "metadata": {},
   "outputs": [
    {
     "data": {
      "text/plain": [
       "False"
      ]
     },
     "execution_count": 19,
     "metadata": {},
     "output_type": "execute_result"
    }
   ],
   "source": [
    "2==3"
   ]
  },
  {
   "cell_type": "markdown",
   "metadata": {},
   "source": [
    "!= eşit değildir.iki değer birbirine eşit değilse True, eşitse False"
   ]
  },
  {
   "cell_type": "code",
   "execution_count": 20,
   "metadata": {},
   "outputs": [
    {
     "data": {
      "text/plain": [
       "False"
      ]
     },
     "execution_count": 20,
     "metadata": {},
     "output_type": "execute_result"
    }
   ],
   "source": [
    "2!=2"
   ]
  },
  {
   "cell_type": "code",
   "execution_count": 21,
   "metadata": {},
   "outputs": [
    {
     "data": {
      "text/plain": [
       "True"
      ]
     },
     "execution_count": 21,
     "metadata": {},
     "output_type": "execute_result"
    }
   ],
   "source": [
    "2!=3"
   ]
  },
  {
   "cell_type": "markdown",
   "metadata": {},
   "source": [
    ">= büyük veya eşitse True değilse False "
   ]
  },
  {
   "cell_type": "code",
   "execution_count": 22,
   "metadata": {},
   "outputs": [
    {
     "data": {
      "text/plain": [
       "True"
      ]
     },
     "execution_count": 22,
     "metadata": {},
     "output_type": "execute_result"
    }
   ],
   "source": [
    "3>=2"
   ]
  },
  {
   "cell_type": "code",
   "execution_count": 23,
   "metadata": {},
   "outputs": [
    {
     "data": {
      "text/plain": [
       "True"
      ]
     },
     "execution_count": 23,
     "metadata": {},
     "output_type": "execute_result"
    }
   ],
   "source": [
    "2>=2"
   ]
  },
  {
   "cell_type": "markdown",
   "metadata": {},
   "source": [
    "<= küçük veya eşitse True değilse False"
   ]
  },
  {
   "cell_type": "code",
   "execution_count": 24,
   "metadata": {},
   "outputs": [
    {
     "data": {
      "text/plain": [
       "True"
      ]
     },
     "execution_count": 24,
     "metadata": {},
     "output_type": "execute_result"
    }
   ],
   "source": [
    "1<=2"
   ]
  },
  {
   "cell_type": "code",
   "execution_count": 25,
   "metadata": {},
   "outputs": [
    {
     "data": {
      "text/plain": [
       "True"
      ]
     },
     "execution_count": 25,
     "metadata": {},
     "output_type": "execute_result"
    }
   ],
   "source": [
    "1<=1"
   ]
  },
  {
   "cell_type": "code",
   "execution_count": 26,
   "metadata": {},
   "outputs": [
    {
     "data": {
      "text/plain": [
       "True"
      ]
     },
     "execution_count": 26,
     "metadata": {},
     "output_type": "execute_result"
    }
   ],
   "source": [
    "\"veli\"<\"zeynep\""
   ]
  },
  {
   "cell_type": "code",
   "execution_count": 27,
   "metadata": {},
   "outputs": [
    {
     "data": {
      "text/plain": [
       "True"
      ]
     },
     "execution_count": 27,
     "metadata": {},
     "output_type": "execute_result"
    }
   ],
   "source": [
    "\"ali\">\"ahmet\""
   ]
  },
  {
   "cell_type": "markdown",
   "metadata": {},
   "source": [
    "# Mantıksal Bağlaçlar"
   ]
  },
  {
   "cell_type": "markdown",
   "metadata": {},
   "source": [
    "and operatörü"
   ]
  },
  {
   "cell_type": "code",
   "execution_count": null,
   "metadata": {},
   "outputs": [],
   "source": [
    "bu bağlaç bütün karşılaştırma işlemlerinin sonucunun True olmasına bakar.\n",
    "hepsi True ise True değilse False çıkar."
   ]
  },
  {
   "cell_type": "code",
   "execution_count": 29,
   "metadata": {},
   "outputs": [
    {
     "data": {
      "text/plain": [
       "True"
      ]
     },
     "execution_count": 29,
     "metadata": {},
     "output_type": "execute_result"
    }
   ],
   "source": [
    "1<2 and 5>4 #her ikiside deoğru olduğu için True"
   ]
  },
  {
   "cell_type": "code",
   "execution_count": 30,
   "metadata": {},
   "outputs": [
    {
     "data": {
      "text/plain": [
       "False"
      ]
     },
     "execution_count": 30,
     "metadata": {},
     "output_type": "execute_result"
    }
   ],
   "source": [
    "2>1 and 4<3 #1. si doğru olmasına rağmen 2. yanlış olduğu için False"
   ]
  },
  {
   "cell_type": "code",
   "execution_count": 32,
   "metadata": {},
   "outputs": [
    {
     "data": {
      "text/plain": [
       "True"
      ]
     },
     "execution_count": 32,
     "metadata": {},
     "output_type": "execute_result"
    }
   ],
   "source": [
    "2 == 2 and 4 < 5 and 6 != 7"
   ]
  },
  {
   "cell_type": "code",
   "execution_count": 33,
   "metadata": {},
   "outputs": [
    {
     "data": {
      "text/plain": [
       "False"
      ]
     },
     "execution_count": 33,
     "metadata": {},
     "output_type": "execute_result"
    }
   ],
   "source": [
    "2 == 2 and 4 < 5 and 5 > 6 # sondaki yanlış sonuç yanlış"
   ]
  },
  {
   "cell_type": "markdown",
   "metadata": {},
   "source": [
    "# or Operatörü"
   ]
  },
  {
   "cell_type": "markdown",
   "metadata": {},
   "source": [
    "karşılaştırmaların en az bir tanesi doğruysa True değilse False"
   ]
  },
  {
   "cell_type": "code",
   "execution_count": 34,
   "metadata": {},
   "outputs": [
    {
     "data": {
      "text/plain": [
       "True"
      ]
     },
     "execution_count": 34,
     "metadata": {},
     "output_type": "execute_result"
    }
   ],
   "source": [
    "1>0 or 2>1"
   ]
  },
  {
   "cell_type": "code",
   "execution_count": 35,
   "metadata": {},
   "outputs": [
    {
     "data": {
      "text/plain": [
       "True"
      ]
     },
     "execution_count": 35,
     "metadata": {},
     "output_type": "execute_result"
    }
   ],
   "source": [
    "1>0 or 2>3 # 1. doğru olduğu True"
   ]
  },
  {
   "cell_type": "code",
   "execution_count": 36,
   "metadata": {},
   "outputs": [
    {
     "data": {
      "text/plain": [
       "True"
      ]
     },
     "execution_count": 36,
     "metadata": {},
     "output_type": "execute_result"
    }
   ],
   "source": [
    "1>2 or 4>3 #2. doğru True"
   ]
  },
  {
   "cell_type": "code",
   "execution_count": 37,
   "metadata": {},
   "outputs": [
    {
     "data": {
      "text/plain": [
       "True"
      ]
     },
     "execution_count": 37,
     "metadata": {},
     "output_type": "execute_result"
    }
   ],
   "source": [
    "1<0 or 2>3 or 1<2 or 4>3 #sondaki doğru olduğu için True"
   ]
  },
  {
   "cell_type": "markdown",
   "metadata": {},
   "source": [
    "not Operatörü"
   ]
  },
  {
   "cell_type": "markdown",
   "metadata": {},
   "source": [
    "var olanı tersine çevirir. doğruyu yanlışa, yanlışı doğruya çevirir."
   ]
  },
  {
   "cell_type": "code",
   "execution_count": 38,
   "metadata": {},
   "outputs": [
    {
     "data": {
      "text/plain": [
       "False"
      ]
     },
     "execution_count": 38,
     "metadata": {},
     "output_type": "execute_result"
    }
   ],
   "source": [
    "not 3>2 #doğruyu yanlışa çevirdi"
   ]
  },
  {
   "cell_type": "code",
   "execution_count": 39,
   "metadata": {},
   "outputs": [
    {
     "data": {
      "text/plain": [
       "True"
      ]
     },
     "execution_count": 39,
     "metadata": {},
     "output_type": "execute_result"
    }
   ],
   "source": [
    "not 2>3 #yanlışı doğruya çevirdi."
   ]
  },
  {
   "cell_type": "markdown",
   "metadata": {},
   "source": [
    "Operatörleri beraber kullanma"
   ]
  },
  {
   "cell_type": "code",
   "execution_count": 40,
   "metadata": {},
   "outputs": [
    {
     "data": {
      "text/plain": [
       "True"
      ]
     },
     "execution_count": 40,
     "metadata": {},
     "output_type": "execute_result"
    }
   ],
   "source": [
    "1 > 2 or 4 < 3 or (2 == 2 and 4 < 5)"
   ]
  },
  {
   "cell_type": "code",
   "execution_count": 41,
   "metadata": {},
   "outputs": [
    {
     "data": {
      "text/plain": [
       "False"
      ]
     },
     "execution_count": 41,
     "metadata": {},
     "output_type": "execute_result"
    }
   ],
   "source": [
    "not(1 > 2 or 4 < 3 or (2 == 2 and 4 < 5))"
   ]
  },
  {
   "cell_type": "markdown",
   "metadata": {},
   "source": [
    "# Koşullu Durumlar if-else durumları"
   ]
  },
  {
   "cell_type": "code",
   "execution_count": 42,
   "metadata": {},
   "outputs": [
    {
     "name": "stdout",
     "output_type": "stream",
     "text": [
      "4\n"
     ]
    }
   ],
   "source": [
    "x=2\n",
    "x=3\n",
    "x=4\n",
    "print(x)"
   ]
  },
  {
   "cell_type": "code",
   "execution_count": 3,
   "metadata": {},
   "outputs": [
    {
     "name": "stdout",
     "output_type": "stream",
     "text": [
      "merhaba\n"
     ]
    }
   ],
   "source": [
    "x=2\n",
    "if x==3:\n",
    "    print(x) #koşul tutmadığı için pas geçti burayı\n",
    "print(\"merhaba\")"
   ]
  },
  {
   "cell_type": "code",
   "execution_count": 45,
   "metadata": {},
   "outputs": [
    {
     "name": "stdout",
     "output_type": "stream",
     "text": [
      "2\n",
      "merhaba\n"
     ]
    }
   ],
   "source": [
    "x=2\n",
    "if x==2:\n",
    "    print(x) #koşul tuttuğu için yazdı.\n",
    "print(\"merhaba\")"
   ]
  },
  {
   "cell_type": "markdown",
   "metadata": {},
   "source": [
    "if bloğu\n",
    "\n",
    "if(koşul):\n",
    "    koşul sağlanırsa(True) yap\n",
    "    \n",
    "Koşul False olursa if bloğu çalışmaz.\n"
   ]
  },
  {
   "cell_type": "code",
   "execution_count": 49,
   "metadata": {},
   "outputs": [
    {
     "name": "stdout",
     "output_type": "stream",
     "text": [
      "yaşınızı giriniz:22\n"
     ]
    }
   ],
   "source": [
    "yas=int(input(\"yaşınızı giriniz:\"))\n",
    "if yas<18:\n",
    "    print(\"buraya giremezsin\")"
   ]
  },
  {
   "cell_type": "code",
   "execution_count": 51,
   "metadata": {},
   "outputs": [
    {
     "name": "stdout",
     "output_type": "stream",
     "text": [
      "yaşınızı giriniz:12\n",
      "buraya giremezsin\n",
      "hoşgeldiniz.\n"
     ]
    }
   ],
   "source": [
    "yas=int(input(\"yaşınızı giriniz:\"))\n",
    "if yas<18:\n",
    "    print(\"buraya giremezsin\")\n",
    "print(\"hoşgeldiniz.\")"
   ]
  },
  {
   "cell_type": "markdown",
   "metadata": {},
   "source": [
    "else Bloğu"
   ]
  },
  {
   "cell_type": "code",
   "execution_count": null,
   "metadata": {},
   "outputs": [],
   "source": [
    "else bloğu if koşulu sağlanmadığı zaman çalışır."
   ]
  },
  {
   "cell_type": "code",
   "execution_count": 4,
   "metadata": {},
   "outputs": [
    {
     "name": "stdout",
     "output_type": "stream",
     "text": [
      "yaşınızı giriniz:22\n",
      "hoşgeldiniz\n"
     ]
    }
   ],
   "source": [
    "yas=int(input(\"yaşınızı giriniz:\"))\n",
    "if yas<18:\n",
    "    print(\"buraya giremezsin\")\n",
    "else:\n",
    "    print(\"hoşgeldiniz\") \n",
    "# belirtilen koşulların dışındaki tüm koşullar için"
   ]
  },
  {
   "cell_type": "code",
   "execution_count": 58,
   "metadata": {},
   "outputs": [
    {
     "name": "stdout",
     "output_type": "stream",
     "text": [
      "\n",
      "Basit Hesap Makinesi\n",
      "1 Toplama\n",
      "2 Çıkarma\n",
      "\n",
      "1. sayı:8\n",
      "2. sayı:4\n",
      "hangi işlem:3\n",
      "8x4=32\n"
     ]
    }
   ],
   "source": [
    "print(\"\"\"\n",
    "Basit Hesap Makinesi\n",
    "1 Toplama\n",
    "2 Çıkarma\n",
    "3 Çarpma\n",
    "4 Bölme\n",
    "\"\"\")\n",
    "s1=int(input(\"1. sayı:\"))\n",
    "s2=int(input(\"2. sayı:\"))\n",
    "hangi=input(\"hangi işlem:\")\n",
    "if hangi==\"1\":\n",
    "    print(\"{}+{}={}\".format(s1,s2,s1+s2))\n",
    "if hangi==\"2\":\n",
    "    print(\"{}-{}={}\".format(s1,s2,s1-s2))\n",
    "if hangi==\"3\":\n",
    "    print(\"{}x{}={}\".format(s1,s2,s1*s2))\n",
    "if hangi==\"4\":\n",
    "    print(\"{}/{}={}\".format(s1,s2,s1/s2))"
   ]
  },
  {
   "cell_type": "code",
   "execution_count": 68,
   "metadata": {},
   "outputs": [
    {
     "name": "stdout",
     "output_type": "stream",
     "text": [
      "Beden Kitle İndeksi Hesaplama\n",
      "boyunuz(cm):170\n",
      "kilonuz:150\n",
      "Allah yardımcın olsun\n"
     ]
    }
   ],
   "source": [
    "print(\"Beden Kitle İndeksi Hesaplama\")\n",
    "boy=int(input(\"boyunuz(cm):\"))\n",
    "kilo=int(input(\"kilonuz:\"))\n",
    "bki=kilo/(boy/100*boy/100)\n",
    "if bki<18.5:\n",
    "    print(\"Zayıfsın Kadeş\")\n",
    "if 18.5 <= bki < 24.9:\n",
    "    print(\"normal\")\n",
    "if 24.9 <bki and bki<29.9: #24.9 <= bki < 29.9 aynı şey\n",
    "    print(\"fazla kilolu\")\n",
    "if 29.9 <= bki < 39.9:\n",
    "    print(\"obezite\")\n",
    "if 39.9 <= bki:\n",
    "    print(\"Allah yardımcın olsun\")"
   ]
  },
  {
   "cell_type": "code",
   "execution_count": null,
   "metadata": {},
   "outputs": [],
   "source": [
    "print(\"\"\"\n",
    "Petrol Ofisine Hoşgeldiniz.\n",
    "benzin:9.72\n",
    "mazot:9.5\n",
    "lpg:8.08\n",
    "\"\"\")\n",
    "benzinp=9.72\n",
    "mazotp=9.5\n",
    "LPGp=8.08\n",
    "petrol=input(\"Mazot mu Benzin mi LPG mi\")\n",
    "if petrol==\"Mazot\" or petrol==\"mazot\" or petrol==\"MAZOT\":\n",
    "    para=int(input(\"ne kadarlık alacaksın:\"))\n",
    "    print(\"{} litrelik mazot satın aldınız.\".format(para/mazotp))\n",
    "if petrol==\"Benzin\" or petrol==\"benzin\" or petrol==\"BENZİN\":\n",
    "    para=int(input(\"ne kadarlık alacaksın:\"))\n",
    "    print(\"{} litrelik mazot satın aldınız.\".format(para/benzinp))\n",
    "if petrol==\"LPG\" or petrol==\"lpg\" or petrol==\"Lpg\":\n",
    "    para=int(input(\"ne kadarlık alacaksın:\"))\n",
    "    print(\"{} litrelik LPG satın aldınız.\".format(para/LPGp))\n",
    "else:\n",
    "    print(\"böyle bir yakıt satışımız maalesef yok.\")"
   ]
  },
  {
   "cell_type": "markdown",
   "metadata": {},
   "source": [
    "Soru: Kullanıcıdan Suyu sıcaklığını isteyin. Verilen sıcaklığa göre\n",
    "    katı sıvı ve gaz hangi halde ise ekrana yazdırın."
   ]
  }
 ],
 "metadata": {
  "kernelspec": {
   "display_name": "Python 3",
   "language": "python",
   "name": "python3"
  },
  "language_info": {
   "codemirror_mode": {
    "name": "ipython",
    "version": 3
   },
   "file_extension": ".py",
   "mimetype": "text/x-python",
   "name": "python",
   "nbconvert_exporter": "python",
   "pygments_lexer": "ipython3",
   "version": "3.7.0"
  }
 },
 "nbformat": 4,
 "nbformat_minor": 2
}
