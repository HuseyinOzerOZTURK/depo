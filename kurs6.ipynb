{
 "cells": [
  {
   "cell_type": "code",
   "execution_count": 10,
   "id": "06abc153",
   "metadata": {},
   "outputs": [
    {
     "name": "stdout",
     "output_type": "stream",
     "text": [
      "sayı giriniz:4\n",
      "sayı giriniz:5\n",
      "sayı giriniz:6\n",
      "sayı giriniz:q\n",
      "Girdiğiniz sayıların toplamı=15\n",
      "4\n",
      "6\n"
     ]
    }
   ],
   "source": [
    "\"\"\"\n",
    "Kullanıcıdan sürekli rakam iste.\n",
    "q veya Q basınca isteme dursun\n",
    "girilen rakamların toplamını ekrana yazdır.\n",
    "girilen en küçük ve en büyük rakamı ekrana yazdır.\n",
    "\n",
    "\"\"\"\n",
    "liste=[]\n",
    "toplam=0\n",
    "while True:\n",
    "    sa=input(\"sayı giriniz:\")\n",
    "    if sa == \"q\" or sa == \"Q\":\n",
    "        break\n",
    "    liste.append(int(sa))\n",
    "for i in liste:\n",
    "    toplam=toplam+i\n",
    "print(\"Girdiğiniz sayıların toplamı={}\".format(toplam))\n",
    "liste.sort() #listeyi küçükten büyüğe sıraladı.\n",
    "print(\"girdiğiniz rakamların içindeki en küçük sayı=\".format(liste[0])) #liste 1. eleman liste[0]\n",
    "print(\"girdiğiniz rakamların içindeki en büyük sayı=\".format(liste[-1])) #liste son eleman liste[-1]\n",
    "\n"
   ]
  },
  {
   "cell_type": "code",
   "execution_count": 14,
   "id": "1f555b02",
   "metadata": {},
   "outputs": [
    {
     "data": {
      "text/plain": [
       "'\\nKullanıcıdan kare mi dikdörtgen mi diye sor.\\nkare ise bir kenar uzunluğunu iste\\nekrana kenar uzunluğuna göre yazdır.\\nÖrnek: kare 1 kenar:4\\nxxxx\\nxxxx\\nxxxx\\nxxxx\\ndikdörtgen ise 2 tane kenar iste\\nörnek:\\na=3 b=4\\nxxxx\\nxxxx\\nxxxx\\n'"
      ]
     },
     "execution_count": 14,
     "metadata": {},
     "output_type": "execute_result"
    }
   ],
   "source": [
    "\"\"\"\n",
    "Kullanıcıdan kare mi dikdörtgen mi diye sor.\n",
    "kare ise bir kenar uzunluğunu iste\n",
    "ekrana kenar uzunluğuna göre yazdır.\n",
    "Örnek: kare 1 kenar:4\n",
    "xxxx\n",
    "xxxx\n",
    "xxxx\n",
    "xxxx\n",
    "dikdörtgen ise 2 tane kenar iste\n",
    "örnek:\n",
    "a=3 b=4\n",
    "xxxx\n",
    "xxxx\n",
    "xxxx\n",
    "\"\"\""
   ]
  },
  {
   "cell_type": "code",
   "execution_count": 16,
   "id": "eece40e3",
   "metadata": {},
   "outputs": [
    {
     "name": "stdout",
     "output_type": "stream",
     "text": [
      "\n",
      "Dikdörtgen için D\n",
      "Kare için K giriniz.\n",
      "\n",
      "Kare mi Dikdörtgen miD\n",
      "Dikdörtgen 1. Kenar:3\n",
      "dikdörtgen 2. Kenar:4\n",
      "xxxx\n",
      "xxxx\n",
      "xxxx\n"
     ]
    }
   ],
   "source": [
    "print(\"\"\"\n",
    "Dikdörtgen için D\n",
    "Kare için K giriniz.\n",
    "\"\"\")\n",
    "sec = input(\"Kare mi Dikdörtgen mi\")\n",
    "if sec == \"K\":\n",
    "    k1=int(input(\"karenin kenarı:\"))\n",
    "    for i in range(0,k1):\n",
    "        print(k1*\"x\")\n",
    "elif sec == \"D\":\n",
    "    k1=int(input(\"Dikdörtgen 1. Kenar:\"))\n",
    "    k2=int(input(\"dikdörtgen 2. Kenar:\"))\n",
    "    for i in range(0,k1):\n",
    "        print(k2*\"x\")\n"
   ]
  },
  {
   "cell_type": "code",
   "execution_count": 20,
   "id": "2d2bc575",
   "metadata": {
    "scrolled": true
   },
   "outputs": [
    {
     "name": "stdout",
     "output_type": "stream",
     "text": [
      "1x1=1\n",
      "1x2=2\n",
      "1x3=3\n",
      "1x4=4\n",
      "1x5=5\n",
      "1x6=6\n",
      "1x7=7\n",
      "1x8=8\n",
      "1x9=9\n",
      "1x10=10\n",
      "2x1=2\n",
      "2x2=4\n",
      "2x3=6\n",
      "2x4=8\n",
      "2x5=10\n",
      "2x6=12\n",
      "2x7=14\n",
      "2x8=16\n",
      "2x9=18\n",
      "2x10=20\n",
      "3x1=3\n",
      "3x2=6\n",
      "3x3=9\n",
      "3x4=12\n",
      "3x5=15\n",
      "3x6=18\n",
      "3x7=21\n",
      "3x8=24\n",
      "3x9=27\n",
      "3x10=30\n",
      "4x1=4\n",
      "4x2=8\n",
      "4x3=12\n",
      "4x4=16\n",
      "4x5=20\n",
      "4x6=24\n",
      "4x7=28\n",
      "4x8=32\n",
      "4x9=36\n",
      "4x10=40\n",
      "5x1=5\n",
      "5x2=10\n",
      "5x3=15\n",
      "5x4=20\n",
      "5x5=25\n",
      "5x6=30\n",
      "5x7=35\n",
      "5x8=40\n",
      "5x9=45\n",
      "5x10=50\n",
      "6x1=6\n",
      "6x2=12\n",
      "6x3=18\n",
      "6x4=24\n",
      "6x5=30\n",
      "6x6=36\n",
      "6x7=42\n",
      "6x8=48\n",
      "6x9=54\n",
      "6x10=60\n",
      "7x1=7\n",
      "7x2=14\n",
      "7x3=21\n",
      "7x4=28\n",
      "7x5=35\n",
      "7x6=42\n",
      "7x7=49\n",
      "7x8=56\n",
      "7x9=63\n",
      "7x10=70\n",
      "8x1=8\n",
      "8x2=16\n",
      "8x3=24\n",
      "8x4=32\n",
      "8x5=40\n",
      "8x6=48\n",
      "8x7=56\n",
      "8x8=64\n",
      "8x9=72\n",
      "8x10=80\n",
      "9x1=9\n",
      "9x2=18\n",
      "9x3=27\n",
      "9x4=36\n",
      "9x5=45\n",
      "9x6=54\n",
      "9x7=63\n",
      "9x8=72\n",
      "9x9=81\n",
      "9x10=90\n",
      "10x1=10\n",
      "10x2=20\n",
      "10x3=30\n",
      "10x4=40\n",
      "10x5=50\n",
      "10x6=60\n",
      "10x7=70\n",
      "10x8=80\n",
      "10x9=90\n",
      "10x10=100\n"
     ]
    }
   ],
   "source": [
    "\"\"\"\n",
    "Çarpım tablosunu yazdırın\n",
    "\n",
    "\"\"\"\n",
    "for i in range(1,11):\n",
    "    for k in range(1,11):\n",
    "        print(\"{}x{}={}\".format(i,k,i*k))"
   ]
  },
  {
   "cell_type": "code",
   "execution_count": null,
   "id": "efbc33b0",
   "metadata": {},
   "outputs": [],
   "source": []
  },
  {
   "cell_type": "code",
   "execution_count": null,
   "id": "bff3d291",
   "metadata": {},
   "outputs": [],
   "source": [
    "\"\"\"\n",
    "1. Ali\n",
    "2. Ayşe\n",
    "3. Veli\n",
    "4. Can\n",
    "5. Elif\n",
    "ekrana yazdırın.\n",
    "\"\"\"\n",
    "  \n",
    "liste=[\"Ali\",\"Ayşe\",\"Veli\",\"Can\",\"Elif\"]\n",
    "\n"
   ]
  },
  {
   "cell_type": "code",
   "execution_count": 32,
   "id": "b60135a7",
   "metadata": {},
   "outputs": [
    {
     "name": "stdout",
     "output_type": "stream",
     "text": [
      "a\n",
      "h\n",
      "m\n",
      "e\n",
      "t\n",
      "1\n",
      "2\n",
      "3\n",
      "4\n"
     ]
    }
   ],
   "source": [
    "ad=\"ahmet\"\n",
    "for i in ad:\n",
    "    print(i)\n",
    "    \n",
    "s=\"1234\"\n",
    "for k in s:\n",
    "    print(k)"
   ]
  },
  {
   "cell_type": "code",
   "execution_count": 40,
   "id": "16741fab",
   "metadata": {},
   "outputs": [
    {
     "name": "stdout",
     "output_type": "stream",
     "text": [
      "adınız:ali\n",
      "soyadınız:veli\n",
      "li"
     ]
    }
   ],
   "source": [
    "\"\"\"\n",
    "adını iste\n",
    "soyadını iste\n",
    "adı ve soyadındaki ortak harfleri buldur\n",
    "\"\"\"\n",
    "ad=input(\"adınız:\")\n",
    "soyad=input(\"soyadınız:\")\n",
    "for i in ad:\n",
    "    for k in soyad:\n",
    "        if i == k:\n",
    "            print(i,end=\"\")"
   ]
  },
  {
   "cell_type": "code",
   "execution_count": 45,
   "id": "ce1aff3a",
   "metadata": {},
   "outputs": [
    {
     "name": "stdout",
     "output_type": "stream",
     "text": [
      "adınız soyadınız:ahmet veli\n",
      "a e e i "
     ]
    }
   ],
   "source": [
    "\"\"\"\n",
    "adıve soyadındaki sesli \n",
    "harfleri yazdırma\n",
    "\n",
    "\"\"\"\n",
    "\n",
    "sesli=\"aeıioöuü\"\n",
    "ad=input(\"adınız soyadınız:\")\n",
    "for i in sesli:\n",
    "    for k in ad:\n",
    "        if i == k:\n",
    "            print(i,end=\" \")"
   ]
  },
  {
   "cell_type": "code",
   "execution_count": 46,
   "id": "5d717940",
   "metadata": {},
   "outputs": [
    {
     "name": "stdout",
     "output_type": "stream",
     "text": [
      "sayı giriniz:50\n",
      "sayıdan küçük girdiniz\n",
      "sayı giriniz:53\n",
      "sayıdan büyük girdiniz\n",
      "sayı giriniz:52\n",
      "sayıyı doğru tahmin ettiniz.\n"
     ]
    }
   ],
   "source": [
    "\"\"\"\n",
    "sayı tahmin\n",
    "oyunu\n",
    "\"\"\"\n",
    "x=52\n",
    "while True:\n",
    "    say=int(input(\"sayı giriniz:\"))\n",
    "    if say>x:\n",
    "        print(\"sayıdan büyük girdiniz\")\n",
    "    elif say<x:\n",
    "        print(\"sayıdan küçük girdiniz\")\n",
    "    elif say == x:\n",
    "        print(\"sayıyı doğru tahmin ettiniz.\")\n",
    "        break"
   ]
  },
  {
   "cell_type": "code",
   "execution_count": null,
   "id": "efa8b619",
   "metadata": {},
   "outputs": [],
   "source": [
    "\"\"\"\n",
    "bankamatik programına  hoşgeldiniz.\n",
    "ne yapmak istiyorsunuz:\n",
    "1 hesabınızdaki para miktarını öğrenme\n",
    "2 para yatırma\n",
    "3 para çekme\n",
    "4 para gönder\n",
    "5 kredi çekme\n",
    "6 programı kapat\n",
    "\n",
    "\n",
    "\n",
    "\n",
    "\n",
    "\n",
    "\n",
    "\"\"\""
   ]
  }
 ],
 "metadata": {
  "kernelspec": {
   "display_name": "Python 3 (ipykernel)",
   "language": "python",
   "name": "python3"
  },
  "language_info": {
   "codemirror_mode": {
    "name": "ipython",
    "version": 3
   },
   "file_extension": ".py",
   "mimetype": "text/x-python",
   "name": "python",
   "nbconvert_exporter": "python",
   "pygments_lexer": "ipython3",
   "version": "3.8.10"
  }
 },
 "nbformat": 4,
 "nbformat_minor": 5
}
