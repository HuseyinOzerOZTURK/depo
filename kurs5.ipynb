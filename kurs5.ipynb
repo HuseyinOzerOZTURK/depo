{
 "cells": [
  {
   "cell_type": "markdown",
   "metadata": {},
   "source": [
    "# if elif else"
   ]
  },
  {
   "cell_type": "markdown",
   "metadata": {},
   "source": [
    "if koşul:\n",
    "    yapılacak işlem\n",
    "elif koşul:\n",
    "    yapılacak işlem\n",
    "elif koşul:\n",
    "    yapılacak işlem\n",
    "elif koşul:\n",
    "    yapılacak işlem\n",
    "//\n",
    "//\n",
    "//\n",
    "else:\n",
    "    yapılacak işlem\n",
    "    "
   ]
  },
  {
   "cell_type": "code",
   "execution_count": null,
   "metadata": {},
   "outputs": [],
   "source": [
    "x=int(input(\"sayı giriniz:\"))\n",
    "if x>1:\n",
    "    print(\"sayı 1 den büyük\")\n",
    "if x>5:\n",
    "    print(\"sayı 5 den büyük\")\n",
    "if x>10:\n",
    "    print(\"sayı 10 dan büyük\")"
   ]
  },
  {
   "cell_type": "markdown",
   "metadata": {},
   "source": [
    "python tüm if bloklarını kontrol eder ve buna göre işlem yapar.\n",
    "if elif de ise if koşulu sağlanmazsa elif bloğuna geçer. yine burayı\n",
    "sırasıyla kontrol eder."
   ]
  },
  {
   "cell_type": "code",
   "execution_count": null,
   "metadata": {},
   "outputs": [],
   "source": [
    "x=int(input(\"sayı giriniz:\"))\n",
    "if x>1:\n",
    "    print(\"sayı 1 den büyük\")\n",
    "elif x>5:\n",
    "    print(\"sayı 5 den büyük\")\n",
    "elif x>10:\n",
    "    print(\"sayı 10 dan büyük\")"
   ]
  },
  {
   "cell_type": "code",
   "execution_count": null,
   "metadata": {},
   "outputs": [],
   "source": [
    "x=int(input(\"1,2,3 rakamlarından birisini giriniz:\"))\n",
    "if x==1:\n",
    "    print(\"1 rakamını girdiniz\")\n",
    "elif x==2:\n",
    "    print(\"2 rakamını girdiniz\")\n",
    "elif x==3:\n",
    "    print(\"3 rakamını girdiniz\")\n",
    "else:\n",
    "    print(\"yanlış rakam girdiniz.\")"
   ]
  },
  {
   "cell_type": "code",
   "execution_count": null,
   "metadata": {},
   "outputs": [],
   "source": [
    "k1=int(input(\"1. kenar\"))\n",
    "k2=int(input(\"2. kenar\"))\n",
    "k3=int(input(\"3. kenar\"))\n",
    "if k1==k2 and k2==k3:\n",
    "    print(\"eşkenar üçgen\")\n",
    "elif (k1==k2 and k2!=k3) or (k1==k3 and k3!=k2) or (k2==k3 and k3!=k1):\n",
    "    print(\"ikizkenar üçgen\")\n",
    "else:\n",
    "    print(\"yok böyle birşey\")"
   ]
  },
  {
   "cell_type": "markdown",
   "metadata": {},
   "source": [
    "# DÖNGÜLER"
   ]
  },
  {
   "cell_type": "markdown",
   "metadata": {},
   "source": [
    "1) programın yeniden baştan başlamasını istenince\n",
    "2) programın belli bir koşula göre sürekli çalışmasını istenince\n",
    "vb durumlarda döngüler kullanılır."
   ]
  },
  {
   "cell_type": "markdown",
   "metadata": {},
   "source": [
    "#1) for döngüleri"
   ]
  },
  {
   "cell_type": "markdown",
   "metadata": {},
   "source": [
    "in operatörü: bir elemanın başka bir listede, demette veya string de bulunup bulunmadığını kontrol eder. "
   ]
  },
  {
   "cell_type": "code",
   "execution_count": null,
   "metadata": {},
   "outputs": [],
   "source": [
    "\"a\" in \"ankara\""
   ]
  },
  {
   "cell_type": "code",
   "execution_count": null,
   "metadata": {},
   "outputs": [],
   "source": [
    "4 in [1,2,3,4]"
   ]
  },
  {
   "cell_type": "code",
   "execution_count": null,
   "metadata": {},
   "outputs": [],
   "source": [
    "4 in (1,2,3)"
   ]
  },
  {
   "cell_type": "markdown",
   "metadata": {},
   "source": [
    "# for döngüsü"
   ]
  },
  {
   "cell_type": "code",
   "execution_count": null,
   "metadata": {},
   "outputs": [],
   "source": [
    "listelerin, demetlerin, sözlüklerin ve stringlerin üzerinde dolaşmamızı sağlayan\n",
    "bir döngü türüdür."
   ]
  },
  {
   "cell_type": "markdown",
   "metadata": {},
   "source": [
    "1) listelerle döngüler"
   ]
  },
  {
   "cell_type": "code",
   "execution_count": null,
   "metadata": {},
   "outputs": [],
   "source": [
    "liste=[1,2,3]\n",
    "for i in liste:\n",
    "    print(i,\"eleman\")"
   ]
  },
  {
   "cell_type": "code",
   "execution_count": null,
   "metadata": {},
   "outputs": [],
   "source": [
    "liste=[1,2,3,4,5]\n",
    "toplam=0\n",
    "for i in liste:\n",
    "    toplam=toplam+i\n",
    "    print(\"i={} iken toplam={} oldu\".format(i,toplam))\n",
    "print(toplam)"
   ]
  },
  {
   "cell_type": "code",
   "execution_count": null,
   "metadata": {},
   "outputs": [],
   "source": [
    "liste=[1,2,3,4,5]\n",
    "carp=1\n",
    "for k in liste:\n",
    "    carp=carp*k\n",
    "print(carp)"
   ]
  },
  {
   "cell_type": "code",
   "execution_count": null,
   "metadata": {},
   "outputs": [],
   "source": [
    "liste=[1,2,3,4,5,6,7,8,9]\n",
    "for m in liste:\n",
    "    if m%2==0:\n",
    "        print(m)"
   ]
  },
  {
   "cell_type": "markdown",
   "metadata": {},
   "source": [
    "karakter dizileri üzerinde gezinmek"
   ]
  },
  {
   "cell_type": "code",
   "execution_count": null,
   "metadata": {},
   "outputs": [],
   "source": [
    "ad=\"ahmet\"\n",
    "for i in ad:\n",
    "    print(i)"
   ]
  },
  {
   "cell_type": "code",
   "execution_count": null,
   "metadata": {},
   "outputs": [],
   "source": [
    "ad=\"ahmet\"\n",
    "for i in ad:\n",
    "    print(i*3)"
   ]
  },
  {
   "cell_type": "markdown",
   "metadata": {},
   "source": [
    "demetler üzerinde gezinmek"
   ]
  },
  {
   "cell_type": "code",
   "execution_count": null,
   "metadata": {},
   "outputs": [],
   "source": [
    "de=(1,2,3,4,5)\n",
    "for i in de:\n",
    "    print(i)"
   ]
  },
  {
   "cell_type": "code",
   "execution_count": null,
   "metadata": {},
   "outputs": [],
   "source": [
    "liste=[(1,2),(3,4),(5,6)]\n",
    "for i in liste:\n",
    "    print(i)"
   ]
  },
  {
   "cell_type": "code",
   "execution_count": null,
   "metadata": {},
   "outputs": [],
   "source": [
    "liste=[(1,2),(3,4),(5,6)]\n",
    "for (i,j) in liste:\n",
    "    print(i,j)"
   ]
  },
  {
   "cell_type": "code",
   "execution_count": null,
   "metadata": {},
   "outputs": [],
   "source": [
    "liste=[(1,2),(3,4),(5,6)]\n",
    "for (i,j) in liste:\n",
    "    print(i*j)"
   ]
  },
  {
   "cell_type": "markdown",
   "metadata": {},
   "source": [
    "sözlükler üzerinde gezinme"
   ]
  },
  {
   "cell_type": "code",
   "execution_count": null,
   "metadata": {},
   "outputs": [],
   "source": [
    "sözlük={\"bir\":1,\"iki\":2,\"üç\":3}\n",
    "sözlük.keys()"
   ]
  },
  {
   "cell_type": "code",
   "execution_count": null,
   "metadata": {},
   "outputs": [],
   "source": [
    "sözlük={\"bir\":1,\"iki\":2,\"üç\":3}\n",
    "sözlük.values()"
   ]
  },
  {
   "cell_type": "code",
   "execution_count": null,
   "metadata": {},
   "outputs": [],
   "source": [
    "sözlük={\"bir\":1,\"iki\":2,\"üç\":3}\n",
    "for i in sözlük.keys():\n",
    "    print(i)"
   ]
  },
  {
   "cell_type": "code",
   "execution_count": null,
   "metadata": {},
   "outputs": [],
   "source": [
    "sözlük={\"bir\":1,\"iki\":2,\"üç\":3}\n",
    "for i in sözlük.values():\n",
    "    print(i)"
   ]
  },
  {
   "cell_type": "markdown",
   "metadata": {},
   "source": [
    "# while döngüleri"
   ]
  },
  {
   "cell_type": "code",
   "execution_count": null,
   "metadata": {},
   "outputs": [],
   "source": [
    "belli bir koşula göre dönmeye devam eder ve işlemleri yapar. koşulun sona ermesi\n",
    "için false olması gerekir."
   ]
  },
  {
   "cell_type": "markdown",
   "metadata": {},
   "source": [
    "while (koşul):\n",
    "    işlem1\n",
    "    işlem2"
   ]
  },
  {
   "cell_type": "code",
   "execution_count": null,
   "metadata": {},
   "outputs": [],
   "source": [
    "i=0\n",
    "\n",
    "while (i<10):\n",
    "    print(i)\n",
    "    i=i+1"
   ]
  },
  {
   "cell_type": "code",
   "execution_count": null,
   "metadata": {},
   "outputs": [],
   "source": [
    "i=2\n",
    "\n",
    "while (i<10):\n",
    "    print(i)\n",
    "    i=i+2"
   ]
  },
  {
   "cell_type": "code",
   "execution_count": null,
   "metadata": {},
   "outputs": [],
   "source": [
    "i=1\n",
    "\n",
    "while (i<6):\n",
    "    print(i,\"Merhaba\")\n",
    "    i=i+1"
   ]
  },
  {
   "cell_type": "markdown",
   "metadata": {},
   "source": [
    "# range() Fonksiyonu"
   ]
  },
  {
   "cell_type": "code",
   "execution_count": null,
   "metadata": {},
   "outputs": [],
   "source": [
    "başlangıç ve bitiş değerlerine göre for döngülerinde kullanılır. "
   ]
  },
  {
   "cell_type": "code",
   "execution_count": null,
   "metadata": {},
   "outputs": [],
   "source": [
    "range(1,20)#0 dahil 20 dahil değildir."
   ]
  },
  {
   "cell_type": "code",
   "execution_count": null,
   "metadata": {},
   "outputs": [],
   "source": [
    "print(*range(1,20))"
   ]
  },
  {
   "cell_type": "code",
   "execution_count": null,
   "metadata": {},
   "outputs": [],
   "source": [
    "print(*range(10))"
   ]
  },
  {
   "cell_type": "code",
   "execution_count": null,
   "metadata": {},
   "outputs": [],
   "source": [
    "print(*range(5,50,5))#artış miktarı 5"
   ]
  },
  {
   "cell_type": "code",
   "execution_count": null,
   "metadata": {},
   "outputs": [],
   "source": [
    "print(*range(0,20,2))"
   ]
  },
  {
   "cell_type": "code",
   "execution_count": null,
   "metadata": {},
   "outputs": [],
   "source": [
    "print(*range(20,0))"
   ]
  },
  {
   "cell_type": "code",
   "execution_count": null,
   "metadata": {},
   "outputs": [],
   "source": [
    "print(*range(20,0,-1))"
   ]
  },
  {
   "cell_type": "code",
   "execution_count": null,
   "metadata": {},
   "outputs": [],
   "source": [
    "for i in range(1,6):\n",
    "    print(i,\"ali\")"
   ]
  },
  {
   "cell_type": "code",
   "execution_count": null,
   "metadata": {
    "scrolled": true
   },
   "outputs": [],
   "source": [
    "for i in range(1,11):\n",
    "    print(\"*\"*i)"
   ]
  },
  {
   "cell_type": "markdown",
   "metadata": {},
   "source": [
    "# döngülerde kullanılan ifadeler: break ve continue"
   ]
  },
  {
   "cell_type": "markdown",
   "metadata": {},
   "source": [
    "break ifadesi"
   ]
  },
  {
   "cell_type": "markdown",
   "metadata": {},
   "source": [
    "döngü herhangi bir yerde ve herhangi bir zamanda break ifadesiyle\n",
    "karşılaştığında düngü durur. "
   ]
  },
  {
   "cell_type": "code",
   "execution_count": null,
   "metadata": {},
   "outputs": [],
   "source": [
    "i=0\n",
    "while (i<5):\n",
    "    print(i)\n",
    "    i=i+1"
   ]
  },
  {
   "cell_type": "code",
   "execution_count": null,
   "metadata": {},
   "outputs": [],
   "source": [
    " i=0\n",
    "while (i<5):\n",
    "    print(i)\n",
    "    i=i+1\n",
    "    if i==3:\n",
    "        break"
   ]
  },
  {
   "cell_type": "markdown",
   "metadata": {},
   "source": [
    "while True: sonsuz döngü için kullanılır."
   ]
  },
  {
   "cell_type": "code",
   "execution_count": null,
   "metadata": {},
   "outputs": [],
   "source": [
    "while True:#sonsuz döngü\n",
    "    x=input(\"harf giriniz:\")\n",
    "    if x==\"q\":\n",
    "        print(\"program sonlandı.\")\n",
    "        break"
   ]
  },
  {
   "cell_type": "code",
   "execution_count": null,
   "metadata": {},
   "outputs": [],
   "source": [
    "say=0\n",
    "for i in range(1,1001):\n",
    "    if i%7==0 and i%11==0:\n",
    "        print(i)\n",
    "        say=say+1\n",
    "print(say)"
   ]
  },
  {
   "cell_type": "code",
   "execution_count": null,
   "metadata": {},
   "outputs": [],
   "source": [
    "say=0\n",
    "for i in range(1,1000000):\n",
    "    if i%111==0:\n",
    "        say=say+1\n",
    "print(say)"
   ]
  },
  {
   "cell_type": "code",
   "execution_count": null,
   "metadata": {},
   "outputs": [],
   "source": [
    "isim=input(\"isminiz:\")\n",
    "x=int(input(\"kaç kez ismini yazdırmak istiyorsun\"))\n",
    "for i in range(1,x+1):\n",
    "    print(isim)\n",
    "    "
   ]
  },
  {
   "cell_type": "code",
   "execution_count": null,
   "metadata": {},
   "outputs": [],
   "source": [
    "k=0\n",
    "say=int(input(\"kaça kadar:\"))\n",
    "böl=int(input(\"hangi sayıya bölünenler:\"))\n",
    "for i in range(1,say+1):\n",
    "    if i%böl==0:\n",
    "        k=k+1\n",
    "print(k)"
   ]
  },
  {
   "cell_type": "code",
   "execution_count": 2,
   "metadata": {},
   "outputs": [
    {
     "name": "stdout",
     "output_type": "stream",
     "text": [
      "kullanıcı adınız:ali\n",
      "şifreniz:1234\n",
      "giriş başarılı\n"
     ]
    }
   ],
   "source": [
    "hak=3\n",
    "kadı=\"ali\"\n",
    "şifre=\"1234\"\n",
    "while True:\n",
    "    uye=input(\"kullanıcı adınız:\")\n",
    "    uyeşifre=input(\"şifreniz:\")\n",
    "    \n",
    "    if kadı==uye and şifre!=uyeşifre:\n",
    "        print(\"şifreniz yanlış\")\n",
    "        hak=hak-1\n",
    "    elif kadı!=uye and şifre==uyeşifre:\n",
    "        print(\"üye adın yanlış şifre doğru\")\n",
    "        hak=hak-1\n",
    "    elif kadı!=uye and şifre!=uyeşifre:\n",
    "        print(\"ikiside yanlış\")\n",
    "        hak=hak-1\n",
    "    else:\n",
    "        print(\"giriş başarılı\")\n",
    "        break\n",
    "    if hak==0:\n",
    "        print(\"hakkınız sonra erdi.\")\n",
    "        break"
   ]
  },
  {
   "cell_type": "code",
   "execution_count": 5,
   "metadata": {},
   "outputs": [
    {
     "name": "stdout",
     "output_type": "stream",
     "text": [
      "1\n",
      "2\n",
      "3\n",
      "4\n",
      "5\n"
     ]
    }
   ],
   "source": [
    "for i in range(1,6):\n",
    "    print(i)\n",
    "    import time\n",
    "    time.sleep(0.5)"
   ]
  }
 ],
 "metadata": {
  "kernelspec": {
   "display_name": "Python 3",
   "language": "python",
   "name": "python3"
  },
  "language_info": {
   "codemirror_mode": {
    "name": "ipython",
    "version": 3
   },
   "file_extension": ".py",
   "mimetype": "text/x-python",
   "name": "python",
   "nbconvert_exporter": "python",
   "pygments_lexer": "ipython3",
   "version": "3.7.0"
  }
 },
 "nbformat": 4,
 "nbformat_minor": 2
}
