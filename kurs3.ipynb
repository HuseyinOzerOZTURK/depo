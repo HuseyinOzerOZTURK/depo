{
 "cells": [
  {
   "cell_type": "code",
   "execution_count": 1,
   "metadata": {},
   "outputs": [
    {
     "name": "stdout",
     "output_type": "stream",
     "text": [
      "[1, 2, 'veli']\n"
     ]
    }
   ],
   "source": [
    "ali=[1,2,\"veli\"]\n",
    "print(ali)"
   ]
  },
  {
   "cell_type": "code",
   "execution_count": 3,
   "metadata": {},
   "outputs": [
    {
     "name": "stdout",
     "output_type": "stream",
     "text": [
      "veli\n"
     ]
    }
   ],
   "source": [
    "print(ali[2])"
   ]
  },
  {
   "cell_type": "code",
   "execution_count": 4,
   "metadata": {},
   "outputs": [
    {
     "name": "stdout",
     "output_type": "stream",
     "text": [
      "3\n"
     ]
    }
   ],
   "source": [
    "print(len(ali))"
   ]
  },
  {
   "cell_type": "code",
   "execution_count": 7,
   "metadata": {},
   "outputs": [
    {
     "name": "stdout",
     "output_type": "stream",
     "text": [
      "[3, 4, 5]\n"
     ]
    }
   ],
   "source": [
    "liste=[1,2,3,4,5,6,7,8,9]\n",
    "print(liste[2:5])"
   ]
  },
  {
   "cell_type": "code",
   "execution_count": 8,
   "metadata": {},
   "outputs": [
    {
     "name": "stdout",
     "output_type": "stream",
     "text": [
      "[9, 8, 7, 6, 5, 4, 3, 2, 1]\n"
     ]
    }
   ],
   "source": [
    "print(liste[::-1])"
   ]
  },
  {
   "cell_type": "code",
   "execution_count": 15,
   "metadata": {},
   "outputs": [
    {
     "name": "stdout",
     "output_type": "stream",
     "text": [
      "veli\n",
      "liste uzunluğu: 9\n"
     ]
    }
   ],
   "source": [
    "liste=[1,2,3,4,5,6,7,8,\"veli\"]\n",
    "print(liste[8])\n",
    "print(\"liste uzunluğu:\",len(liste))"
   ]
  },
  {
   "cell_type": "code",
   "execution_count": 16,
   "metadata": {},
   "outputs": [
    {
     "name": "stdout",
     "output_type": "stream",
     "text": [
      "veli\n"
     ]
    }
   ],
   "source": [
    "print(liste[len(liste)-1])#sondakini bulma"
   ]
  },
  {
   "cell_type": "code",
   "execution_count": 17,
   "metadata": {},
   "outputs": [
    {
     "name": "stdout",
     "output_type": "stream",
     "text": [
      "veli\n"
     ]
    }
   ],
   "source": [
    "print(liste[-1])#=print(liste[len(liste)-1])"
   ]
  },
  {
   "cell_type": "markdown",
   "metadata": {},
   "source": [
    "Temel Liste Metodları ve İşlemleri"
   ]
  },
  {
   "cell_type": "code",
   "execution_count": 18,
   "metadata": {},
   "outputs": [
    {
     "name": "stdout",
     "output_type": "stream",
     "text": [
      "[1, 2, 3, 4, 5, 6]\n"
     ]
    }
   ],
   "source": [
    "liste1=[1,2,3]\n",
    "liste2=[4,5,6]\n",
    "print(liste1+liste2)"
   ]
  },
  {
   "cell_type": "code",
   "execution_count": 19,
   "metadata": {},
   "outputs": [
    {
     "name": "stdout",
     "output_type": "stream",
     "text": [
      "[1, 2, 3, 2, 3, 6]\n"
     ]
    }
   ],
   "source": [
    "liste1=[1,2,3]\n",
    "liste2=[2,3,6]\n",
    "print(liste1+liste2)"
   ]
  },
  {
   "cell_type": "markdown",
   "metadata": {},
   "source": [
    "listeye eleman ekleme"
   ]
  },
  {
   "cell_type": "code",
   "execution_count": 20,
   "metadata": {},
   "outputs": [
    {
     "name": "stdout",
     "output_type": "stream",
     "text": [
      "[1, 2, 3, 4]\n"
     ]
    }
   ],
   "source": [
    "liste = [1,2,3]\n",
    "liste = liste+[4]#integer değer ekleme\n",
    "print(liste)"
   ]
  },
  {
   "cell_type": "code",
   "execution_count": 21,
   "metadata": {},
   "outputs": [
    {
     "name": "stdout",
     "output_type": "stream",
     "text": [
      "[1, 2, 3, 4, 'ali']\n"
     ]
    }
   ],
   "source": [
    "liste=liste+[\"ali\"]#string değer ekleme\n",
    "print(liste)"
   ]
  },
  {
   "cell_type": "code",
   "execution_count": 22,
   "metadata": {},
   "outputs": [
    {
     "name": "stdout",
     "output_type": "stream",
     "text": [
      "['veli', 2, 3, 4, 'ali']\n"
     ]
    }
   ],
   "source": [
    "liste[0]=\"veli\"#ilk sıradaki elemanı değiştirdik\n",
    "print(liste)"
   ]
  },
  {
   "cell_type": "code",
   "execution_count": 26,
   "metadata": {},
   "outputs": [
    {
     "name": "stdout",
     "output_type": "stream",
     "text": [
      "[1, 2, 3, 4, 5, 1, 2, 3, 4, 5]\n",
      "[1, 2, 3, 4, 5]\n"
     ]
    }
   ],
   "source": [
    "liste=[1,2,3,4,5]\n",
    "print(liste*2)#listelerde çarpma işlemi\n",
    "print(liste)"
   ]
  },
  {
   "cell_type": "code",
   "execution_count": 25,
   "metadata": {},
   "outputs": [
    {
     "name": "stdout",
     "output_type": "stream",
     "text": [
      "[1, 2, 3, 4, 5, 1, 2, 3, 4, 5]\n"
     ]
    }
   ],
   "source": [
    "liste=[1,2,3,4,5]\n",
    "liste=liste*2#yeni listem\n",
    "print(liste)"
   ]
  },
  {
   "cell_type": "markdown",
   "metadata": {},
   "source": [
    "append metodu: verdiğimiz değeri listeye ekler."
   ]
  },
  {
   "cell_type": "code",
   "execution_count": 27,
   "metadata": {},
   "outputs": [
    {
     "name": "stdout",
     "output_type": "stream",
     "text": [
      "[5, 6, 7, 8, 9]\n"
     ]
    }
   ],
   "source": [
    "liste=[5,6,7,8]\n",
    "liste.append(9)#9 sayısını ekleme yaptık. liste = liste+[9]\n",
    "print(liste)"
   ]
  },
  {
   "cell_type": "code",
   "execution_count": 28,
   "metadata": {},
   "outputs": [
    {
     "name": "stdout",
     "output_type": "stream",
     "text": [
      "[5, 6, 7, 8, 9, 'ali']\n"
     ]
    }
   ],
   "source": [
    "liste.append(\"ali\")#string değer ekleme\n",
    "print(liste)"
   ]
  },
  {
   "cell_type": "markdown",
   "metadata": {},
   "source": [
    "pop metodu\n",
    "Bu metod, içine değer vermezsek listenin son elemanını, değer verirsek karşılık gelen elemanını  listeden atar ve attığını ekrana yazar."
   ]
  },
  {
   "cell_type": "code",
   "execution_count": 29,
   "metadata": {},
   "outputs": [
    {
     "data": {
      "text/plain": [
       "5"
      ]
     },
     "execution_count": 29,
     "metadata": {},
     "output_type": "execute_result"
    }
   ],
   "source": [
    "liste=[1,2,3,4,5]\n",
    "liste.pop()#listedeki son eleman 5 olduğu için onu listeden attı ve yazdı."
   ]
  },
  {
   "cell_type": "code",
   "execution_count": 30,
   "metadata": {},
   "outputs": [
    {
     "name": "stdout",
     "output_type": "stream",
     "text": [
      "[1, 2, 3, 4]\n"
     ]
    }
   ],
   "source": [
    "print(liste)#listemizin yeni hali"
   ]
  },
  {
   "cell_type": "code",
   "execution_count": 31,
   "metadata": {},
   "outputs": [
    {
     "data": {
      "text/plain": [
       "4"
      ]
     },
     "execution_count": 31,
     "metadata": {},
     "output_type": "execute_result"
    }
   ],
   "source": [
    "liste2=[1,2,3,4,5]\n",
    "liste2.pop(3)#0 dan başlayarak  3. sıradaki eleman 4 olduğu için onu attı"
   ]
  },
  {
   "cell_type": "code",
   "execution_count": 32,
   "metadata": {},
   "outputs": [
    {
     "name": "stdout",
     "output_type": "stream",
     "text": [
      "[1, 2, 3, 5]\n"
     ]
    }
   ],
   "source": [
    "print(liste2)#listemizin yeni hali"
   ]
  },
  {
   "cell_type": "markdown",
   "metadata": {},
   "source": [
    "sort metodu\n",
    "listenin elemanlarını sıralamamızı sağlar."
   ]
  },
  {
   "cell_type": "code",
   "execution_count": 33,
   "metadata": {},
   "outputs": [
    {
     "name": "stdout",
     "output_type": "stream",
     "text": [
      "[1, 2, 3, 4, 5, 6, 7, 8, 9]\n"
     ]
    }
   ],
   "source": [
    "veli=[3,7,1,9,2,4,6,5,8]\n",
    "veli.sort()#verilen listeyi küçükten büyüğe doğru sıraladık.\n",
    "print(veli)"
   ]
  },
  {
   "cell_type": "code",
   "execution_count": 34,
   "metadata": {},
   "outputs": [
    {
     "name": "stdout",
     "output_type": "stream",
     "text": [
      "[9, 8, 7, 6, 5, 4, 3, 2, 1]\n"
     ]
    }
   ],
   "source": [
    "liste4=[3,7,1,9,2,4,6,5,8]\n",
    "liste4.sort(reverse=True)\n",
    "print(liste4)"
   ]
  },
  {
   "cell_type": "code",
   "execution_count": 35,
   "metadata": {},
   "outputs": [
    {
     "name": "stdout",
     "output_type": "stream",
     "text": [
      "['ali', 'deniz', 'yasemin', 'zeynep']\n"
     ]
    }
   ],
   "source": [
    "liste5=[\"zeynep\",\"ali\",\"deniz\",\"yasemin\"]#string ifadelerde alfabetik sıralama yapar\n",
    "liste5.sort()\n",
    "print(liste5)"
   ]
  },
  {
   "cell_type": "code",
   "execution_count": 38,
   "metadata": {},
   "outputs": [
    {
     "name": "stdout",
     "output_type": "stream",
     "text": [
      "Help on class list in module builtins:\n",
      "\n",
      "class list(object)\n",
      " |  list(iterable=(), /)\n",
      " |  \n",
      " |  Built-in mutable sequence.\n",
      " |  \n",
      " |  If no argument is given, the constructor creates a new empty list.\n",
      " |  The argument must be an iterable if specified.\n",
      " |  \n",
      " |  Methods defined here:\n",
      " |  \n",
      " |  __add__(self, value, /)\n",
      " |      Return self+value.\n",
      " |  \n",
      " |  __contains__(self, key, /)\n",
      " |      Return key in self.\n",
      " |  \n",
      " |  __delitem__(self, key, /)\n",
      " |      Delete self[key].\n",
      " |  \n",
      " |  __eq__(self, value, /)\n",
      " |      Return self==value.\n",
      " |  \n",
      " |  __ge__(self, value, /)\n",
      " |      Return self>=value.\n",
      " |  \n",
      " |  __getattribute__(self, name, /)\n",
      " |      Return getattr(self, name).\n",
      " |  \n",
      " |  __getitem__(...)\n",
      " |      x.__getitem__(y) <==> x[y]\n",
      " |  \n",
      " |  __gt__(self, value, /)\n",
      " |      Return self>value.\n",
      " |  \n",
      " |  __iadd__(self, value, /)\n",
      " |      Implement self+=value.\n",
      " |  \n",
      " |  __imul__(self, value, /)\n",
      " |      Implement self*=value.\n",
      " |  \n",
      " |  __init__(self, /, *args, **kwargs)\n",
      " |      Initialize self.  See help(type(self)) for accurate signature.\n",
      " |  \n",
      " |  __iter__(self, /)\n",
      " |      Implement iter(self).\n",
      " |  \n",
      " |  __le__(self, value, /)\n",
      " |      Return self<=value.\n",
      " |  \n",
      " |  __len__(self, /)\n",
      " |      Return len(self).\n",
      " |  \n",
      " |  __lt__(self, value, /)\n",
      " |      Return self<value.\n",
      " |  \n",
      " |  __mul__(self, value, /)\n",
      " |      Return self*value.\n",
      " |  \n",
      " |  __ne__(self, value, /)\n",
      " |      Return self!=value.\n",
      " |  \n",
      " |  __repr__(self, /)\n",
      " |      Return repr(self).\n",
      " |  \n",
      " |  __reversed__(self, /)\n",
      " |      Return a reverse iterator over the list.\n",
      " |  \n",
      " |  __rmul__(self, value, /)\n",
      " |      Return value*self.\n",
      " |  \n",
      " |  __setitem__(self, key, value, /)\n",
      " |      Set self[key] to value.\n",
      " |  \n",
      " |  __sizeof__(self, /)\n",
      " |      Return the size of the list in memory, in bytes.\n",
      " |  \n",
      " |  append(self, object, /)\n",
      " |      Append object to the end of the list.\n",
      " |  \n",
      " |  clear(self, /)\n",
      " |      Remove all items from list.\n",
      " |  \n",
      " |  copy(self, /)\n",
      " |      Return a shallow copy of the list.\n",
      " |  \n",
      " |  count(self, value, /)\n",
      " |      Return number of occurrences of value.\n",
      " |  \n",
      " |  extend(self, iterable, /)\n",
      " |      Extend list by appending elements from the iterable.\n",
      " |  \n",
      " |  index(self, value, start=0, stop=2147483647, /)\n",
      " |      Return first index of value.\n",
      " |      \n",
      " |      Raises ValueError if the value is not present.\n",
      " |  \n",
      " |  insert(self, index, object, /)\n",
      " |      Insert object before index.\n",
      " |  \n",
      " |  pop(self, index=-1, /)\n",
      " |      Remove and return item at index (default last).\n",
      " |      \n",
      " |      Raises IndexError if list is empty or index is out of range.\n",
      " |  \n",
      " |  remove(self, value, /)\n",
      " |      Remove first occurrence of value.\n",
      " |      \n",
      " |      Raises ValueError if the value is not present.\n",
      " |  \n",
      " |  reverse(self, /)\n",
      " |      Reverse *IN PLACE*.\n",
      " |  \n",
      " |  sort(self, /, *, key=None, reverse=False)\n",
      " |      Stable sort *IN PLACE*.\n",
      " |  \n",
      " |  ----------------------------------------------------------------------\n",
      " |  Static methods defined here:\n",
      " |  \n",
      " |  __new__(*args, **kwargs) from builtins.type\n",
      " |      Create and return a new object.  See help(type) for accurate signature.\n",
      " |  \n",
      " |  ----------------------------------------------------------------------\n",
      " |  Data and other attributes defined here:\n",
      " |  \n",
      " |  __hash__ = None\n",
      "\n"
     ]
    }
   ],
   "source": [
    "help(list)"
   ]
  },
  {
   "cell_type": "markdown",
   "metadata": {},
   "source": [
    "iç içe listeler\n",
    "bir listenin içinde başka bir liste bulundurmak mümkündür. bu tip bir özellik pythonda ağaç yapılarında kullanılır. "
   ]
  },
  {
   "cell_type": "code",
   "execution_count": 44,
   "metadata": {},
   "outputs": [
    {
     "name": "stdout",
     "output_type": "stream",
     "text": [
      "[[1, 2], [3, 4], [5, 6]]\n",
      "[1, 2, 3, 4, 5, 6]\n"
     ]
    }
   ],
   "source": [
    "liste1=[1,2]\n",
    "liste2=[3,4]\n",
    "liste3=[5,6]\n",
    "liste4=[liste1,liste2,liste3]\n",
    "print(liste4)#iç içe liste\n",
    "liste5=liste1+liste2+liste3\n",
    "print(liste5)#tek listede topladı."
   ]
  },
  {
   "cell_type": "code",
   "execution_count": 43,
   "metadata": {},
   "outputs": [
    {
     "name": "stdout",
     "output_type": "stream",
     "text": [
      "3\n"
     ]
    }
   ],
   "source": [
    "print(liste4[1][0])# birinci listedeki ilk rakam"
   ]
  },
  {
   "cell_type": "code",
   "execution_count": 42,
   "metadata": {},
   "outputs": [
    {
     "name": "stdout",
     "output_type": "stream",
     "text": [
      "6\n"
     ]
    }
   ],
   "source": [
    "print(liste4[2][1])"
   ]
  },
  {
   "cell_type": "markdown",
   "metadata": {},
   "source": [
    "# DEMETLER TUPLE()"
   ]
  },
  {
   "cell_type": "code",
   "execution_count": null,
   "metadata": {},
   "outputs": [],
   "source": [
    "listelere oldukça benzerler ama demetler değiştirilemez. değiştirilmesini\n",
    "istemediğimiz değerleri demetlerin içinde kullanabiliriz."
   ]
  },
  {
   "cell_type": "code",
   "execution_count": 46,
   "metadata": {},
   "outputs": [],
   "source": [
    "demet=(1,2,3,4,5)"
   ]
  },
  {
   "cell_type": "code",
   "execution_count": 47,
   "metadata": {},
   "outputs": [
    {
     "name": "stdout",
     "output_type": "stream",
     "text": [
      "<class 'tuple'>\n"
     ]
    }
   ],
   "source": [
    "print(type(demet))"
   ]
  },
  {
   "cell_type": "code",
   "execution_count": 48,
   "metadata": {},
   "outputs": [],
   "source": [
    "demet2=(5,) # tek elemanlı demet bu şekilde tanımlanır."
   ]
  },
  {
   "cell_type": "code",
   "execution_count": 51,
   "metadata": {},
   "outputs": [
    {
     "name": "stdout",
     "output_type": "stream",
     "text": [
      "3\n"
     ]
    }
   ],
   "source": [
    "demet3=(1,2,3,4)\n",
    "print(demet3[2])"
   ]
  },
  {
   "cell_type": "code",
   "execution_count": null,
   "metadata": {},
   "outputs": [],
   "source": [
    "#Demetlerin temel metodları"
   ]
  },
  {
   "cell_type": "markdown",
   "metadata": {},
   "source": [
    "1)index: verdiğimiz elemanın hangi sırada(index) olduğunu söyler."
   ]
  },
  {
   "cell_type": "code",
   "execution_count": 52,
   "metadata": {},
   "outputs": [
    {
     "name": "stdout",
     "output_type": "stream",
     "text": [
      "2\n"
     ]
    }
   ],
   "source": [
    "demet7=(\"ali\",\"veli\",\"ayşe\",2,3,4)\n",
    "print(demet7.index(\"ayşe\"))"
   ]
  },
  {
   "cell_type": "markdown",
   "metadata": {},
   "source": [
    "2)count: verdiğimiz değerin demetin içinde kaç defa geçtiğini sayar."
   ]
  },
  {
   "cell_type": "code",
   "execution_count": 53,
   "metadata": {},
   "outputs": [
    {
     "name": "stdout",
     "output_type": "stream",
     "text": [
      "5\n"
     ]
    }
   ],
   "source": [
    "demet=(1,2,3,2,2,2,2,3,3,3,1)\n",
    "print(demet.count(2))"
   ]
  },
  {
   "cell_type": "markdown",
   "metadata": {},
   "source": [
    "Demetleri ne zaman kullanmalıyım?\n",
    "Demetler sadece read only(sadece okuma) olduğundan değiştirilmesini\n",
    "istemediğimiz(TC kimlik no, doğum tarihi...) bilgiler için kullanılır."
   ]
  },
  {
   "cell_type": "code",
   "execution_count": null,
   "metadata": {},
   "outputs": [],
   "source": [
    "Sözlükler(Dictionary)\n",
    "Gerçek hayatta sözlükler gibi davranan veritipidir.\n",
    "Sözlük içindeki her bir eleman index değildir.\n",
    "anahtar(key) ve value(değer) olarak tutulur."
   ]
  },
  {
   "cell_type": "code",
   "execution_count": 54,
   "metadata": {},
   "outputs": [
    {
     "name": "stdout",
     "output_type": "stream",
     "text": [
      "{'sıfır': 0, 'bir': 1, 'iki': 2}\n"
     ]
    }
   ],
   "source": [
    "sözlük={\"sıfır\":0,\"bir\":1,\"iki\":2}\n",
    "print(sözlük)"
   ]
  },
  {
   "cell_type": "code",
   "execution_count": 55,
   "metadata": {},
   "outputs": [
    {
     "name": "stdout",
     "output_type": "stream",
     "text": [
      "1\n"
     ]
    }
   ],
   "source": [
    "print(sözlük[\"bir\"])"
   ]
  },
  {
   "cell_type": "markdown",
   "metadata": {},
   "source": [
    "sözlüğe ekleme"
   ]
  },
  {
   "cell_type": "code",
   "execution_count": 56,
   "metadata": {},
   "outputs": [
    {
     "name": "stdout",
     "output_type": "stream",
     "text": [
      "{'sıfır': 0, 'bir': 1, 'iki': 2, 'dört': 4}\n"
     ]
    }
   ],
   "source": [
    "sözlük={\"sıfır\":0,\"bir\":1,\"iki\":2}\n",
    "sözlük[\"dört\"]=4\n",
    "print(sözlük)"
   ]
  },
  {
   "cell_type": "markdown",
   "metadata": {},
   "source": [
    "Temel Sözlük Metodları"
   ]
  },
  {
   "cell_type": "markdown",
   "metadata": {},
   "source": [
    "1) values() metodu sözlüğün değerlerini bir liste olarak döner."
   ]
  },
  {
   "cell_type": "code",
   "execution_count": 58,
   "metadata": {},
   "outputs": [
    {
     "name": "stdout",
     "output_type": "stream",
     "text": [
      "dict_values([0, 1, 2])\n"
     ]
    }
   ],
   "source": [
    "yeni={\"sıfır\":0,\"bir\":1,\"iki\":2}\n",
    "print(yeni.values())"
   ]
  },
  {
   "cell_type": "markdown",
   "metadata": {},
   "source": [
    "2) keys() metodu sözlüğün anahtarlarını bir liste olarak döner."
   ]
  },
  {
   "cell_type": "code",
   "execution_count": 59,
   "metadata": {},
   "outputs": [
    {
     "name": "stdout",
     "output_type": "stream",
     "text": [
      "dict_keys(['sıfır', 'bir', 'iki'])\n"
     ]
    }
   ],
   "source": [
    "yeni={\"sıfır\":0,\"bir\":1,\"iki\":2}\n",
    "print(yeni.keys())"
   ]
  },
  {
   "cell_type": "markdown",
   "metadata": {},
   "source": [
    "# INPUT\n",
    "kullanıcından girdi almamızı sağlayan fonksiyondur.\n",
    "input() şeklinde kullanılır."
   ]
  },
  {
   "cell_type": "code",
   "execution_count": 60,
   "metadata": {},
   "outputs": [
    {
     "name": "stdout",
     "output_type": "stream",
     "text": [
      "merhaba nasılsın?iyiyim.\n"
     ]
    }
   ],
   "source": [
    "a=input(\"merhaba nasılsın?\")"
   ]
  },
  {
   "cell_type": "code",
   "execution_count": 61,
   "metadata": {},
   "outputs": [
    {
     "name": "stdout",
     "output_type": "stream",
     "text": [
      "rakam yazınız: 5\n"
     ]
    }
   ],
   "source": [
    "b=input(\"rakam yazınız: \")"
   ]
  },
  {
   "cell_type": "code",
   "execution_count": 62,
   "metadata": {},
   "outputs": [
    {
     "name": "stdout",
     "output_type": "stream",
     "text": [
      "5\n"
     ]
    }
   ],
   "source": [
    "print(b)"
   ]
  },
  {
   "cell_type": "code",
   "execution_count": 63,
   "metadata": {},
   "outputs": [
    {
     "name": "stdout",
     "output_type": "stream",
     "text": [
      "rakam yazınız: 123\n",
      "123 rakamını yazdınız.\n"
     ]
    }
   ],
   "source": [
    "b=input(\"rakam yazınız: \")\n",
    "print(b,\"rakamını yazdınız.\")"
   ]
  },
  {
   "cell_type": "markdown",
   "metadata": {},
   "source": [
    "ÖNEMLİ NOT!"
   ]
  },
  {
   "cell_type": "code",
   "execution_count": 64,
   "metadata": {},
   "outputs": [
    {
     "name": "stdout",
     "output_type": "stream",
     "text": [
      "rakam yazınız: 5\n",
      "5 rakamını yazdınız.\n",
      "<class 'str'>\n"
     ]
    }
   ],
   "source": [
    "c=input(\"rakam yazınız: \")\n",
    "print(c,\"rakamını yazdınız.\")\n",
    "print(type(c))#input ile alınan değer string"
   ]
  },
  {
   "cell_type": "code",
   "execution_count": 65,
   "metadata": {},
   "outputs": [
    {
     "name": "stdout",
     "output_type": "stream",
     "text": [
      "1. rakam:5\n",
      "2. rakam:6\n",
      "56\n"
     ]
    }
   ],
   "source": [
    "a=input(\"1. rakam:\")\n",
    "b=input(\"2. rakam:\")\n",
    "print(a+b)#matematiksel işlem için integer çevirmemiz gerekiyor."
   ]
  },
  {
   "cell_type": "code",
   "execution_count": 66,
   "metadata": {},
   "outputs": [
    {
     "name": "stdout",
     "output_type": "stream",
     "text": [
      "1. sayı: 2\n",
      "2. sayı: 3\n",
      "5\n"
     ]
    }
   ],
   "source": [
    "s1=input(\"1. sayı: \")\n",
    "s2=input(\"2. sayı: \")\n",
    "print(int(s1)+int(s2))"
   ]
  },
  {
   "cell_type": "code",
   "execution_count": 67,
   "metadata": {},
   "outputs": [
    {
     "name": "stdout",
     "output_type": "stream",
     "text": [
      "1. sayı: 5\n",
      "2. sayı: 6\n",
      "11\n"
     ]
    }
   ],
   "source": [
    "s1=input(\"1. sayı: \")\n",
    "s2=input(\"2. sayı: \")\n",
    "a=int(s1)\n",
    "b=int(s2)\n",
    "print(a+b)"
   ]
  },
  {
   "cell_type": "code",
   "execution_count": 68,
   "metadata": {},
   "outputs": [
    {
     "name": "stdout",
     "output_type": "stream",
     "text": [
      "1. sayı: 5\n",
      "2. sayı: 6\n",
      "toplam=11\n",
      "çıkan=-1\n",
      "çarpım=30\n",
      "bölüm=0.8333333333333334\n"
     ]
    }
   ],
   "source": [
    "s1=int(input(\"1. sayı: \"))\n",
    "s2=int(input(\"2. sayı: \"))\n",
    "print(\"toplam={}\".format(s1+s2))\n",
    "print(\"çıkan={}\".format(s1-s2))\n",
    "print(\"çarpım={}\".format(s1*s2))\n",
    "print(\"bölüm={}\".format(s1/s2))"
   ]
  },
  {
   "cell_type": "code",
   "execution_count": 69,
   "metadata": {},
   "outputs": [
    {
     "name": "stdout",
     "output_type": "stream",
     "text": [
      "1. kenar: 5\n",
      "2. kenar: 6\n",
      "alan=  30\n",
      "çevre=  22\n"
     ]
    }
   ],
   "source": [
    "a=int(input(\"1. kenar: \"))\n",
    "b=int(input(\"2. kenar: \"))\n",
    "alan=a*b\n",
    "çevre=2*(a+b)\n",
    "print(\"alan= \",alan)#print(\"alan={}\".format(a*b))\n",
    "print(\"çevre= \",çevre)#print(\"çevre={}\".format(2*(a+b))\n"
   ]
  },
  {
   "cell_type": "code",
   "execution_count": 73,
   "metadata": {},
   "outputs": [
    {
     "name": "stdout",
     "output_type": "stream",
     "text": [
      "sayı giriniz:9\n",
      "sayı giriniz:8\n",
      "sayı giriniz:7\n",
      "sayı giriniz:6\n",
      "sayı giriniz:5\n",
      "[5, 6, 7, 8, 9]\n"
     ]
    }
   ],
   "source": [
    "a=int(input(\"sayı giriniz:\"))\n",
    "b=int(input(\"sayı giriniz:\"))\n",
    "c=int(input(\"sayı giriniz:\"))\n",
    "d=int(input(\"sayı giriniz:\"))\n",
    "e=int(input(\"sayı giriniz:\"))\n",
    "liste=[a,b,c,d,e]\n",
    "liste.sort()\n",
    "print(liste)"
   ]
  },
  {
   "cell_type": "code",
   "execution_count": 75,
   "metadata": {},
   "outputs": [
    {
     "name": "stdout",
     "output_type": "stream",
     "text": [
      "sayı giriniz:3\n",
      "sayı giriniz:6\n",
      "sayı giriniz:5\n",
      "sayı giriniz:9\n",
      "sayı giriniz:2\n",
      "[3, 6, 5, 9, 2]\n",
      "[2, 3, 5, 6, 9]\n"
     ]
    }
   ],
   "source": [
    "liste=[]#boş liste\n",
    "a=int(input(\"sayı giriniz:\"))\n",
    "liste.append(a)\n",
    "b=int(input(\"sayı giriniz:\"))\n",
    "liste.append(b)\n",
    "c=int(input(\"sayı giriniz:\"))\n",
    "liste.append(c)\n",
    "d=int(input(\"sayı giriniz:\"))\n",
    "liste.append(d)\n",
    "e=int(input(\"sayı giriniz:\"))\n",
    "liste.append(e)\n",
    "print(liste)\n",
    "liste.sort()\n",
    "print(liste)"
   ]
  },
  {
   "cell_type": "code",
   "execution_count": 77,
   "metadata": {},
   "outputs": [
    {
     "name": "stdout",
     "output_type": "stream",
     "text": [
      "boyunuz(metre)?1.7\n",
      "kilonuz(kg)70\n",
      "24.221453287197235\n"
     ]
    }
   ],
   "source": [
    "boy=float(input(\"boyunuz(metre)?\"))\n",
    "kilo=float(input(\"kilonuz(kg)\"))\n",
    "vke=kilo/(boy*boy)\n",
    "print(vke)"
   ]
  },
  {
   "cell_type": "code",
   "execution_count": null,
   "metadata": {},
   "outputs": [],
   "source": []
  }
 ],
 "metadata": {
  "kernelspec": {
   "display_name": "Python 3",
   "language": "python",
   "name": "python3"
  },
  "language_info": {
   "codemirror_mode": {
    "name": "ipython",
    "version": 3
   },
   "file_extension": ".py",
   "mimetype": "text/x-python",
   "name": "python",
   "nbconvert_exporter": "python",
   "pygments_lexer": "ipython3",
   "version": "3.7.0"
  }
 },
 "nbformat": 4,
 "nbformat_minor": 2
}
