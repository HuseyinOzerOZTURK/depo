{
 "cells": [
  {
   "cell_type": "markdown",
   "metadata": {},
   "source": [
    "Print Fonksiyonu:\n",
    "Ekranan değer yazdırmak için kullanılır."
   ]
  },
  {
   "cell_type": "code",
   "execution_count": 7,
   "metadata": {},
   "outputs": [
    {
     "name": "stdout",
     "output_type": "stream",
     "text": [
      "5\n"
     ]
    }
   ],
   "source": [
    "print(5)"
   ]
  },
  {
   "cell_type": "code",
   "execution_count": 3,
   "metadata": {},
   "outputs": [
    {
     "name": "stdout",
     "output_type": "stream",
     "text": [
      "3.14\n"
     ]
    }
   ],
   "source": [
    "print(3.14)"
   ]
  },
  {
   "cell_type": "code",
   "execution_count": 4,
   "metadata": {},
   "outputs": [
    {
     "name": "stdout",
     "output_type": "stream",
     "text": [
      "Ali Emre\n"
     ]
    }
   ],
   "source": [
    "print(\"Ali Emre\")"
   ]
  },
  {
   "cell_type": "code",
   "execution_count": 5,
   "metadata": {},
   "outputs": [
    {
     "name": "stdout",
     "output_type": "stream",
     "text": [
      "www\n"
     ]
    }
   ],
   "source": [
    "print(\"w\"*3)"
   ]
  },
  {
   "cell_type": "code",
   "execution_count": 6,
   "metadata": {},
   "outputs": [
    {
     "name": "stdout",
     "output_type": "stream",
     "text": [
      "Ayşe'nin bugün kursu var.\n"
     ]
    }
   ],
   "source": [
    "print(\"Ayşe'nin bugün kursu var.\")"
   ]
  },
  {
   "cell_type": "code",
   "execution_count": 8,
   "metadata": {},
   "outputs": [
    {
     "name": "stdout",
     "output_type": "stream",
     "text": [
      "5\n"
     ]
    }
   ],
   "source": [
    "print(2+3)"
   ]
  },
  {
   "cell_type": "code",
   "execution_count": 9,
   "metadata": {},
   "outputs": [
    {
     "name": "stdout",
     "output_type": "stream",
     "text": [
      "2+3\n"
     ]
    }
   ],
   "source": [
    "print(\"2+3\")"
   ]
  },
  {
   "cell_type": "code",
   "execution_count": 10,
   "metadata": {},
   "outputs": [
    {
     "name": "stdout",
     "output_type": "stream",
     "text": [
      "bilgisayar\n"
     ]
    }
   ],
   "source": [
    "print(\"bilgi\"+\"sayar\")"
   ]
  },
  {
   "cell_type": "markdown",
   "metadata": {},
   "source": [
    "Aynı satırda birden fazla değeri yazdırmak için aralarına virgül işareti kullanılır."
   ]
  },
  {
   "cell_type": "code",
   "execution_count": 11,
   "metadata": {},
   "outputs": [
    {
     "name": "stdout",
     "output_type": "stream",
     "text": [
      "1 2 3\n"
     ]
    }
   ],
   "source": [
    "print(1,2,3)"
   ]
  },
  {
   "cell_type": "code",
   "execution_count": 12,
   "metadata": {},
   "outputs": [
    {
     "name": "stdout",
     "output_type": "stream",
     "text": [
      "ali veli ayşe\n"
     ]
    }
   ],
   "source": [
    "print(\"ali\",\"veli\",\"ayşe\")"
   ]
  },
  {
   "cell_type": "code",
   "execution_count": 13,
   "metadata": {},
   "outputs": [
    {
     "name": "stdout",
     "output_type": "stream",
     "text": [
      "1 ali\n"
     ]
    }
   ],
   "source": [
    "print(1,\"ali\")"
   ]
  },
  {
   "cell_type": "code",
   "execution_count": 17,
   "metadata": {},
   "outputs": [
    {
     "name": "stdout",
     "output_type": "stream",
     "text": [
      "122\n"
     ]
    }
   ],
   "source": [
    "a=33\n",
    "b=89\n",
    "c=a+b\n",
    "print(c)"
   ]
  },
  {
   "cell_type": "markdown",
   "metadata": {},
   "source": [
    "ÖRNEK: birinci sayı 5, ikinci sayı 6. Ekrana toplamını, çıkarmasını, bölümünü ve çarpımını yazdırın. "
   ]
  },
  {
   "cell_type": "code",
   "execution_count": 18,
   "metadata": {},
   "outputs": [
    {
     "name": "stdout",
     "output_type": "stream",
     "text": [
      "Toplam= 11\n",
      "Çıkarma= -1\n",
      "Çarpım= 30\n",
      "Bölme= 0.8333333333333334\n"
     ]
    }
   ],
   "source": [
    "sayi1 = 5\n",
    "sayi2 = 6\n",
    "toplam = sayi1+sayi2\n",
    "çıkar = sayi1-sayi2\n",
    "çarp = sayi1*sayi2\n",
    "böl = sayi1/sayi2\n",
    "print(\"Toplam=\",toplam)\n",
    "print(\"Çıkarma=\",çıkar)\n",
    "print(\"Çarpım=\",çarp)\n",
    "print(\"Bölme=\",böl)"
   ]
  },
  {
   "cell_type": "markdown",
   "metadata": {},
   "source": [
    "SORU: iki tane sayı tanımlayın. Ekrana sırasıyle\n",
    "    bu iki sayıyı toplarsak ... sonucuna ulaşılır.\n",
    "    bu iki sayıyı çıkartırsak birbirinden ... sonucuna ulaşılır.\n",
    "    bu iki sayıyı çarparsak ... sonucuna ulaşılır.\n",
    "    bu iki sayıyı bölersek ... sonucuna ulaşılır."
   ]
  },
  {
   "cell_type": "code",
   "execution_count": 22,
   "metadata": {},
   "outputs": [
    {
     "name": "stdout",
     "output_type": "stream",
     "text": [
      "bu iki sayıyı toplarsak 12 sonucuna ulaşılır\n",
      "bu iki sayıyı çıkar 4 sonucuna ulaşılır\n",
      "bu iki sayıyı çarp 32 sonucuna ulaşılır\n",
      "bu iki sayıyı böl 2.0 sonucuna ulaşılır\n"
     ]
    }
   ],
   "source": [
    "s1=8\n",
    "s2=4\n",
    "print(\"bu iki sayıyı toplarsak\",s1+s2,\"sonucuna ulaşılır\")\n",
    "print(\"bu iki sayıyı çıkar\",s1-s2,\"sonucuna ulaşılır\")\n",
    "print(\"bu iki sayıyı çarp\",s1*s2,\"sonucuna ulaşılır\")\n",
    "print(\"bu iki sayıyı böl\",s1/s2,\"sonucuna ulaşılır\")"
   ]
  },
  {
   "cell_type": "markdown",
   "metadata": {},
   "source": [
    "String ifadelere özel karakterler"
   ]
  },
  {
   "cell_type": "markdown",
   "metadata": {},
   "source": [
    "1. \\n karakteri: bir alt satıra geçmek için kullanılır."
   ]
  },
  {
   "cell_type": "code",
   "execution_count": 23,
   "metadata": {},
   "outputs": [
    {
     "name": "stdout",
     "output_type": "stream",
     "text": [
      "ali\n",
      "veli\n",
      "ayşe\n"
     ]
    }
   ],
   "source": [
    "print(\"ali\\nveli\\nayşe\")"
   ]
  },
  {
   "cell_type": "markdown",
   "metadata": {},
   "source": [
    "Soru: Alt alta adınızı soyadınızı doğum yılınızı yazdırın."
   ]
  },
  {
   "cell_type": "code",
   "execution_count": 24,
   "metadata": {},
   "outputs": [
    {
     "name": "stdout",
     "output_type": "stream",
     "text": [
      "ali\n",
      "veli\n",
      "2000\n"
     ]
    }
   ],
   "source": [
    "print(\"ali\\nveli\\n2000\")"
   ]
  },
  {
   "cell_type": "code",
   "execution_count": null,
   "metadata": {},
   "outputs": [],
   "source": [
    "2. \\t bir tab boşluk bırakmak için kullanılır."
   ]
  },
  {
   "cell_type": "code",
   "execution_count": 25,
   "metadata": {},
   "outputs": [
    {
     "name": "stdout",
     "output_type": "stream",
     "text": [
      "ali veli\n",
      "ali\tveli\n"
     ]
    }
   ],
   "source": [
    "print(\"ali\",\"veli\")\n",
    "print(\"ali\\tveli\")"
   ]
  },
  {
   "cell_type": "code",
   "execution_count": 27,
   "metadata": {},
   "outputs": [
    {
     "name": "stdout",
     "output_type": "stream",
     "text": [
      "ocak\tşubat\tmart\n"
     ]
    }
   ],
   "source": [
    "print(\"ocak\\tşubat\\tmart\")"
   ]
  },
  {
   "cell_type": "code",
   "execution_count": 29,
   "metadata": {},
   "outputs": [
    {
     "name": "stdout",
     "output_type": "stream",
     "text": [
      "ali\tveli\n",
      "ali\t\t\t\t\t\t\tveli\n"
     ]
    }
   ],
   "source": [
    "print(\"ali\\tveli\")\n",
    "print(\"ali\\t\\t\\t\\t\\t\\t\\tveli\")"
   ]
  },
  {
   "cell_type": "code",
   "execution_count": 30,
   "metadata": {},
   "outputs": [
    {
     "name": "stdout",
     "output_type": "stream",
     "text": [
      "adı\t:Mehmet\n",
      "soyadı\t:ÖZKAN\n"
     ]
    }
   ],
   "source": [
    "print(\"adı\\t:Mehmet\\nsoyadı\\t:ÖZKAN\")"
   ]
  },
  {
   "cell_type": "markdown",
   "metadata": {},
   "source": [
    "type() fonksiyonu"
   ]
  },
  {
   "cell_type": "markdown",
   "metadata": {},
   "source": [
    "type fonksiyonu değerin hangi veri tipinde olduğunu söyler."
   ]
  },
  {
   "cell_type": "code",
   "execution_count": 31,
   "metadata": {},
   "outputs": [
    {
     "name": "stdout",
     "output_type": "stream",
     "text": [
      "<class 'int'>\n"
     ]
    }
   ],
   "source": [
    "a=3\n",
    "print(type(a))"
   ]
  },
  {
   "cell_type": "code",
   "execution_count": 32,
   "metadata": {},
   "outputs": [
    {
     "name": "stdout",
     "output_type": "stream",
     "text": [
      "<class 'float'>\n"
     ]
    }
   ],
   "source": [
    "b=3.14\n",
    "print(type(b))"
   ]
  },
  {
   "cell_type": "code",
   "execution_count": 33,
   "metadata": {},
   "outputs": [
    {
     "name": "stdout",
     "output_type": "stream",
     "text": [
      "<class 'str'>\n"
     ]
    }
   ],
   "source": [
    "c=\"ali\"\n",
    "print(type(c))"
   ]
  },
  {
   "cell_type": "code",
   "execution_count": 34,
   "metadata": {},
   "outputs": [
    {
     "name": "stdout",
     "output_type": "stream",
     "text": [
      "<class 'int'>\n"
     ]
    }
   ],
   "source": [
    "print(type(5))"
   ]
  },
  {
   "cell_type": "code",
   "execution_count": 35,
   "metadata": {},
   "outputs": [
    {
     "name": "stdout",
     "output_type": "stream",
     "text": [
      "<class 'str'>\n"
     ]
    }
   ],
   "source": [
    "print(type(\"ali\"))"
   ]
  },
  {
   "cell_type": "code",
   "execution_count": 36,
   "metadata": {},
   "outputs": [
    {
     "name": "stdout",
     "output_type": "stream",
     "text": [
      "<class 'float'>\n"
     ]
    }
   ],
   "source": [
    "print(type(3.2))"
   ]
  },
  {
   "cell_type": "markdown",
   "metadata": {},
   "source": [
    "len() fonksiyonu"
   ]
  },
  {
   "cell_type": "markdown",
   "metadata": {},
   "source": [
    "string değerlerin uzunluğunu ölçer.\n",
    "Not: integer değerleri string e dönüştürmeden ölçüm yapmaz."
   ]
  },
  {
   "cell_type": "code",
   "execution_count": 39,
   "metadata": {},
   "outputs": [
    {
     "name": "stdout",
     "output_type": "stream",
     "text": [
      "4\n"
     ]
    }
   ],
   "source": [
    "a=\"veli\"\n",
    "print(len(a))"
   ]
  },
  {
   "cell_type": "code",
   "execution_count": 40,
   "metadata": {},
   "outputs": [
    {
     "name": "stdout",
     "output_type": "stream",
     "text": [
      "8\n"
     ]
    }
   ],
   "source": [
    "b=\"ali veli\"\n",
    "print(len(b))#boşluğu da sayar"
   ]
  },
  {
   "cell_type": "markdown",
   "metadata": {},
   "source": [
    "verilen interger değerin len komutu ile kullanılması"
   ]
  },
  {
   "cell_type": "code",
   "execution_count": 45,
   "metadata": {},
   "outputs": [
    {
     "name": "stdout",
     "output_type": "stream",
     "text": [
      "<class 'str'>\n",
      "2\n"
     ]
    }
   ],
   "source": [
    "a=44\n",
    "b=str(a)\n",
    "print(type(b))\n",
    "print(len(b))"
   ]
  },
  {
   "cell_type": "code",
   "execution_count": 46,
   "metadata": {},
   "outputs": [
    {
     "name": "stdout",
     "output_type": "stream",
     "text": [
      "9\n"
     ]
    }
   ],
   "source": [
    "x=123456789\n",
    "print(len(str(x)))"
   ]
  },
  {
   "cell_type": "code",
   "execution_count": 49,
   "metadata": {},
   "outputs": [
    {
     "name": "stdout",
     "output_type": "stream",
     "text": [
      "41041.0\n",
      "5\n"
     ]
    }
   ],
   "source": [
    "a=123123\n",
    "print(a/3)\n",
    "print((len(str(a/3))-2)) #açtığınız her parantezi kapatmak zorundasınız."
   ]
  },
  {
   "cell_type": "code",
   "execution_count": 54,
   "metadata": {},
   "outputs": [
    {
     "name": "stdout",
     "output_type": "stream",
     "text": [
      "41041.0\n",
      "<class 'str'>\n",
      "7\n",
      "<class 'int'>\n",
      "5\n"
     ]
    }
   ],
   "source": [
    "a=123123\n",
    "b=a/3\n",
    "c=str(b)#çıkan sonucu string e çevirdik\n",
    "print(c)#çıkan sonucu görmek istedik ve 7 karakterden oluştuğunu gördük.\n",
    "print(type(c))# c nin türünü gördük\n",
    "d=len(c)#string olan c nin uzunluğunu ölçtük ve d ye eşitledik.\n",
    "print(d)# d yi ekrana yazdırdık.\n",
    "print(type(d))# d hangi veri türünde onu gördük\n",
    "print(d-2)#. ve . dan sonrasını sayduırmamak için 2 çıkardık."
   ]
  },
  {
   "cell_type": "markdown",
   "metadata": {},
   "source": [
    "sep parametresi"
   ]
  },
  {
   "cell_type": "markdown",
   "metadata": {},
   "source": [
    "sep parametresi ekrana yazdırdığımız değerlerin arasına istediğimiz karakteri yazdırır."
   ]
  },
  {
   "cell_type": "code",
   "execution_count": 55,
   "metadata": {},
   "outputs": [
    {
     "name": "stdout",
     "output_type": "stream",
     "text": [
      "1 2 3 4\n"
     ]
    }
   ],
   "source": [
    "print(1,2,3,4)"
   ]
  },
  {
   "cell_type": "code",
   "execution_count": 56,
   "metadata": {},
   "outputs": [
    {
     "name": "stdout",
     "output_type": "stream",
     "text": [
      "1.2.3.4\n"
     ]
    }
   ],
   "source": [
    "print(1,2,3,4,sep=\".\")"
   ]
  },
  {
   "cell_type": "code",
   "execution_count": 57,
   "metadata": {},
   "outputs": [
    {
     "name": "stdout",
     "output_type": "stream",
     "text": [
      "1,2,3,4\n"
     ]
    }
   ],
   "source": [
    "print(1,2,3,4,sep=\",\")"
   ]
  },
  {
   "cell_type": "code",
   "execution_count": 58,
   "metadata": {},
   "outputs": [
    {
     "name": "stdout",
     "output_type": "stream",
     "text": [
      "06/02/2002\n"
     ]
    }
   ],
   "source": [
    "print(\"06\",\"02\",\"2002\",sep=\"/\")"
   ]
  },
  {
   "cell_type": "code",
   "execution_count": 59,
   "metadata": {},
   "outputs": [
    {
     "name": "stdout",
     "output_type": "stream",
     "text": [
      "1\n",
      "2\n",
      "3\n",
      "4\n"
     ]
    }
   ],
   "source": [
    "print(1,2,3,4,sep=\"\\n\")"
   ]
  },
  {
   "cell_type": "code",
   "execution_count": 61,
   "metadata": {},
   "outputs": [
    {
     "data": {
      "text/plain": [
       "'sep parametresini kullanarak adınızı \\nsoyadınızı ve doğum yılınızı \\nalt alta yazın'"
      ]
     },
     "execution_count": 61,
     "metadata": {},
     "output_type": "execute_result"
    }
   ],
   "source": [
    "\"\"\"sep parametresini kullanarak adınızı \n",
    "soyadınızı ve doğum yılınızı \n",
    "alt alta yazın\"\"\""
   ]
  },
  {
   "cell_type": "code",
   "execution_count": 62,
   "metadata": {},
   "outputs": [
    {
     "name": "stdout",
     "output_type": "stream",
     "text": [
      "ali\n",
      "veli\n",
      "2002\n"
     ]
    }
   ],
   "source": [
    "print(\"ali\",\"veli\",2002,sep=\"\\n\")"
   ]
  },
  {
   "cell_type": "code",
   "execution_count": 66,
   "metadata": {},
   "outputs": [
    {
     "name": "stdout",
     "output_type": "stream",
     "text": [
      "1.2.3.4\n"
     ]
    }
   ],
   "source": [
    "print(1,2,3,4,sep=\".\")#4 ün sonuna . koymadı"
   ]
  },
  {
   "cell_type": "code",
   "execution_count": 67,
   "metadata": {},
   "outputs": [
    {
     "name": "stdout",
     "output_type": "stream",
     "text": [
      "1.2.3.4."
     ]
    }
   ],
   "source": [
    "print(1,2,3,4,sep=\".\",end=\".\") # 4ün sonuna nokta koyduk."
   ]
  },
  {
   "cell_type": "code",
   "execution_count": 69,
   "metadata": {},
   "outputs": [
    {
     "name": "stdout",
     "output_type": "stream",
     "text": [
      "1234\n"
     ]
    }
   ],
   "source": [
    "print(1,2,3,4,sep=\"\")"
   ]
  },
  {
   "cell_type": "markdown",
   "metadata": {},
   "source": [
    "yıldızlı parametreler"
   ]
  },
  {
   "cell_type": "markdown",
   "metadata": {},
   "source": [
    "eğer bir stringin başına * işareti koyup, print fonksiyonuna \n",
    "gönderirsek bu string ifade karakterlerine ayrılır.\n",
    "yani hepsini tek tek yazdırır."
   ]
  },
  {
   "cell_type": "code",
   "execution_count": 71,
   "metadata": {},
   "outputs": [
    {
     "name": "stdout",
     "output_type": "stream",
     "text": [
      "a l i\n",
      "a l i\n"
     ]
    }
   ],
   "source": [
    "print(*\"ali\")\n",
    "print(\"a\",\"l\",\"i\")"
   ]
  },
  {
   "cell_type": "code",
   "execution_count": 72,
   "metadata": {},
   "outputs": [
    {
     "name": "stdout",
     "output_type": "stream",
     "text": [
      "a\n",
      "l\n",
      "i\n"
     ]
    }
   ],
   "source": [
    "print(\"a\",\"l\",\"i\",sep=\"\\n\")"
   ]
  },
  {
   "cell_type": "code",
   "execution_count": 73,
   "metadata": {},
   "outputs": [
    {
     "name": "stdout",
     "output_type": "stream",
     "text": [
      "a\n",
      "l\n",
      "i\n"
     ]
    }
   ],
   "source": [
    "print(*\"ali\",sep=\"\\n\")"
   ]
  },
  {
   "cell_type": "markdown",
   "metadata": {},
   "source": [
    "Soru: ekrana \"TBMM\" kullanarak T.B.M.M. yazdırın."
   ]
  },
  {
   "cell_type": "code",
   "execution_count": 74,
   "metadata": {},
   "outputs": [
    {
     "name": "stdout",
     "output_type": "stream",
     "text": [
      "T.B.M.M."
     ]
    }
   ],
   "source": [
    "print(*\"TBMM\",sep=\".\",end=\".\")"
   ]
  },
  {
   "cell_type": "code",
   "execution_count": 76,
   "metadata": {},
   "outputs": [
    {
     "name": "stdout",
     "output_type": "stream",
     "text": [
      "1.2.3.4\n"
     ]
    }
   ],
   "source": [
    "print(*\"1234\",sep=\".\") #* parametresi sasdece string ifadelerde çalışır."
   ]
  },
  {
   "cell_type": "markdown",
   "metadata": {},
   "source": [
    "string indeksleme ve parçalama\n",
    "pythonda indeksleme \"0\" dan başlar."
   ]
  },
  {
   "cell_type": "code",
   "execution_count": 77,
   "metadata": {},
   "outputs": [
    {
     "name": "stdout",
     "output_type": "stream",
     "text": [
      "a\n"
     ]
    }
   ],
   "source": [
    "a=\"ali\"\n",
    "print(a[0])"
   ]
  },
  {
   "cell_type": "code",
   "execution_count": 78,
   "metadata": {},
   "outputs": [
    {
     "name": "stdout",
     "output_type": "stream",
     "text": [
      "l\n"
     ]
    }
   ],
   "source": [
    "a=\"ali\"\n",
    "print(a[1])"
   ]
  },
  {
   "cell_type": "code",
   "execution_count": 79,
   "metadata": {},
   "outputs": [
    {
     "name": "stdout",
     "output_type": "stream",
     "text": [
      "i\n"
     ]
    }
   ],
   "source": [
    "a=\"ali\"\n",
    "print(a[2])"
   ]
  },
  {
   "cell_type": "code",
   "execution_count": 86,
   "metadata": {},
   "outputs": [
    {
     "name": "stdout",
     "output_type": "stream",
     "text": [
      "i\n"
     ]
    }
   ],
   "source": [
    "x=\"mehmetali\"\n",
    "print(x[-1])"
   ]
  },
  {
   "cell_type": "code",
   "execution_count": 88,
   "metadata": {},
   "outputs": [
    {
     "name": "stdout",
     "output_type": "stream",
     "text": [
      "L\n"
     ]
    }
   ],
   "source": [
    "x=\"MEHMETALİ\"\n",
    "print(x[-2])"
   ]
  },
  {
   "cell_type": "code",
   "execution_count": 92,
   "metadata": {},
   "outputs": [
    {
     "name": "stdout",
     "output_type": "stream",
     "text": [
      "HMET\n"
     ]
    }
   ],
   "source": [
    "x=\"MEHMETALİ\"\n",
    "print(x[2:6])"
   ]
  },
  {
   "cell_type": "code",
   "execution_count": 93,
   "metadata": {},
   "outputs": [
    {
     "name": "stdout",
     "output_type": "stream",
     "text": [
      "HMETALİ\n"
     ]
    }
   ],
   "source": [
    "x=\"MEHMETALİ\"\n",
    "print(x[2:])"
   ]
  },
  {
   "cell_type": "code",
   "execution_count": 94,
   "metadata": {},
   "outputs": [
    {
     "name": "stdout",
     "output_type": "stream",
     "text": [
      "HMETA\n"
     ]
    }
   ],
   "source": [
    "x=\"MEHMETALİ\"\n",
    "print(x[2:-2])"
   ]
  },
  {
   "cell_type": "markdown",
   "metadata": {},
   "source": [
    "FORMATLAMA\n",
    "programlama yaparken bazı yerlerde bir string in içine daha önceden tanımlı değerleri yerleştirmek için kullanılır."
   ]
  },
  {
   "cell_type": "code",
   "execution_count": 95,
   "metadata": {},
   "outputs": [
    {
     "name": "stdout",
     "output_type": "stream",
     "text": [
      "bugün ali okula gelmedi\n"
     ]
    }
   ],
   "source": [
    "print(\"bugün {} okula gelmedi\".format(\"ali\"))"
   ]
  },
  {
   "cell_type": "code",
   "execution_count": 96,
   "metadata": {},
   "outputs": [
    {
     "name": "stdout",
     "output_type": "stream",
     "text": [
      "bugün Veli okula gelmedi\n"
     ]
    }
   ],
   "source": [
    "a=\"Veli\"\n",
    "print(\"bugün {} okula gelmedi\".format(a))"
   ]
  },
  {
   "cell_type": "code",
   "execution_count": 97,
   "metadata": {},
   "outputs": [
    {
     "name": "stdout",
     "output_type": "stream",
     "text": [
      "ali ile veli çok iyi arkadaşlardır.\n"
     ]
    }
   ],
   "source": [
    "x=\"ali\"\n",
    "y=\"veli\"\n",
    "print(\"{} ile {} çok iyi arkadaşlardır.\".format(x,y))"
   ]
  },
  {
   "cell_type": "code",
   "execution_count": 98,
   "metadata": {},
   "outputs": [
    {
     "name": "stdout",
     "output_type": "stream",
     "text": [
      "4+6=10\n"
     ]
    }
   ],
   "source": [
    "s1=4\n",
    "s2=6\n",
    "print(\"{}+{}={}\".format(s1,s2,s1+s2))"
   ]
  },
  {
   "cell_type": "code",
   "execution_count": null,
   "metadata": {},
   "outputs": [],
   "source": [
    "listeler\n",
    "her bir veritipinden elemanı saklamak için kullanılır. "
   ]
  },
  {
   "cell_type": "code",
   "execution_count": 99,
   "metadata": {},
   "outputs": [
    {
     "name": "stdout",
     "output_type": "stream",
     "text": [
      "[1, 2, 3]\n"
     ]
    }
   ],
   "source": [
    "liste=[1,2,3]\n",
    "print(liste)"
   ]
  },
  {
   "cell_type": "code",
   "execution_count": 101,
   "metadata": {},
   "outputs": [
    {
     "name": "stdout",
     "output_type": "stream",
     "text": [
      "['ali', 'veli']\n"
     ]
    }
   ],
   "source": [
    "liste2=[\"ali\",\"veli\"]\n",
    "print(liste2)"
   ]
  },
  {
   "cell_type": "code",
   "execution_count": 102,
   "metadata": {},
   "outputs": [
    {
     "name": "stdout",
     "output_type": "stream",
     "text": [
      "['ali', 2, 3, 'veli']\n"
     ]
    }
   ],
   "source": [
    "liste3=[\"ali\",2,3,\"veli\"]\n",
    "print(liste3)"
   ]
  },
  {
   "cell_type": "code",
   "execution_count": 103,
   "metadata": {},
   "outputs": [
    {
     "name": "stdout",
     "output_type": "stream",
     "text": [
      "6\n"
     ]
    }
   ],
   "source": [
    "liste4=[1,2,3,4,5,6]\n",
    "print(len(liste4))"
   ]
  },
  {
   "cell_type": "code",
   "execution_count": null,
   "metadata": {},
   "outputs": [],
   "source": []
  }
 ],
 "metadata": {
  "kernelspec": {
   "display_name": "Python 3",
   "language": "python",
   "name": "python3"
  },
  "language_info": {
   "codemirror_mode": {
    "name": "ipython",
    "version": 3
   },
   "file_extension": ".py",
   "mimetype": "text/x-python",
   "name": "python",
   "nbconvert_exporter": "python",
   "pygments_lexer": "ipython3",
   "version": "3.7.0"
  }
 },
 "nbformat": 4,
 "nbformat_minor": 2
}
